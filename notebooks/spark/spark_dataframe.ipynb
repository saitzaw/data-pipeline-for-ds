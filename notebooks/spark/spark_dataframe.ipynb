{
 "cells": [
  {
   "cell_type": "code",
   "execution_count": 32,
   "id": "c692da0f-9dae-4f11-a3e9-915cd0be1cae",
   "metadata": {},
   "outputs": [],
   "source": [
    "import os\n",
    "import pyspark\n",
    "import findspark\n",
    "findspark.init()\n",
    "from pyspark.sql import SparkSession\n",
    "from pyspark.sql.types import *"
   ]
  },
  {
   "cell_type": "code",
   "execution_count": 33,
   "id": "f924908f-2915-4794-ba8e-69931c10a6cf",
   "metadata": {},
   "outputs": [],
   "source": [
    "os.environ[\"JAVA_HOME\"] = \"/usr/lib/jvm/java-8-openjdk-amd64\"\n",
    "os.environ[\"SPARK_HOME\"] = \"/opt/spark\"\n",
    "spark_loca = \"local[*]\"\n",
    "spark = SparkSession.builder.master(spark_loca).getOrCreate()"
   ]
  },
  {
   "cell_type": "code",
   "execution_count": 34,
   "id": "20621470-c0ac-4cd5-abbc-69b88e3fcf93",
   "metadata": {},
   "outputs": [],
   "source": [
    "# Sample emp data\n",
    "# this cell will be longer, as add the dummy data but almost similar to real data\n",
    "emp = [(\"MR-001\", \"Alice\", \"Market Research\", 7500, \"F\", \"2017-02-10 9:30:00\"),\n",
    "       (\"MR-002\", \"Bob\", \"Market Research\", 7500, \"M\", \"2018-04-10 9:30:00\"),\n",
    "       (\"MR-003\", \"John\", \"Market Research\", 9500, \"M\", \"2019-01-01 10:30:00\"),\n",
    "       (\"M-001\", \"Jonathan\", \"Marketing\", 4500, \"O\", \"2017-04-10 9:30:00\"),\n",
    "       (\"M-002\", \"Ethan\", \"Marketing\", 6000, \"M\", \"2017-04-10 9:30:00\"),\n",
    "       (\"M-003\", \"Elyra\", \"Marketing\", 7500, \"O\", \"2017-04-10 9:30:00\"),\n",
    "       (\"M-004\", \"Sophia\", \"Marketing\", 8000, \"F\", \"2017-04-10 9:30:00\"),\n",
    "       (\"M-005\", \"Mia\", \"Marketing\", 5000, \"F\", \"2017-04-10 9:30:00\"),\n",
    "       (\"M-006\", \"Ava\", \"Marketing\", 4500, \"F\", \"2018-01-01 9:15:00\"),\n",
    "       (\"M-007\", \"Olivia\", \"Marketing\", 6500, \"F\", \"2019-02-10 10:30:00\"),\n",
    "       (\"M-008\", \"Luca\", \"Marketing\", 3000, \"M\", \"2019-05-01 9:15:00\"),\n",
    "       (\"HR-001\", \"James\", \"Human Resource\", 4500, \"M\", \"2018-10-01 9:30:00\"),\n",
    "       (\"HR-002\", \"Robert\", \"Human Resource\", 5500, \"M\", \"2018-10-01 9:30:00\"),\n",
    "       (\"HR-003\", \"Joseph\", \"Human Resuorce\", 6000, \"M\", \"2019-01-01 10:30:00\"),\n",
    "       (\"HR-004\", \"Mark\", \"Human Resource\", 3500, \"O\", \"2019-02-01 9:30:00\"),\n",
    "       (\"HR-005\", \"Chloe\", \"Human Resource\", 9000, \"F\", \"2019-02-02 9:30:00\"),\n",
    "       (\"HR-006\", \"Hazel\", \"Human Resource\", 5500,  \"F\", \"2019-05-01 9:30:00\"),\n",
    "       (\"HR-007\", \"Zoey\", \"Human Resource\", 4500, \"F\", \"2019-06-01 9:30:00\"),\n",
    "       (\"S-001\", \"Grace\", \"Sale\", 8000, \"F\", \"2017-04-10 9:30:00\"),\n",
    "       (\"S-002\", \"Avery\", \"Sale\", 6000, \"F\", \"2017-04-10 9:30:00\"),\n",
    "       (\"S-003\", \"Charles\", \"Sale\", 5000, \"M\", \"2017-04-10 9:30:00\"),\n",
    "       (\"S-004\", \"Andrew\", \"Sale\", 4500, \"M\", \"2017-04-10 9:30:00\"),\n",
    "       (\"S-005\", \"Paul\", \"Sale\", 9500, \"O\", \"2017-04-10 9:30:00\"),\n",
    "       (\"S-006\", \"Joshua\", \"Sale\", 4500, \"M\", \"2017-04-10 9:30:00\"),\n",
    "       (\"S-007\", \"Steven\", \"Sale\", 5000, \"M\", \"2017-04-10 9:30:00\"),\n",
    "       (\"S-008\", \"Bella\", \"Sale\", 4500, \"F\", \"2017-04-10 9:30:00\"),\n",
    "       (\"S-009\", \"Elena\", \"Sale\", 5000, \"X\", \"2018-02-10 9:30:00\"),\n",
    "       (\"S-010\", \"Skylar\", \"Sale\", 3500, \"F\", \"2018-02-04 9:30:00\"),\n",
    "       (\"S-011\", \"Maya\", \"Sale\", 3500, \"F\", \"2018-05-05 9:30:00\"),\n",
    "       (\"S-012\", \"Sophie\", \"Sale\", 3500, \"X\", \"2018-05-05 9:30:00\"),\n",
    "       (\"S-013\", \"Sara\", \"Sale\", 8000, \"F\", \"2018-06-01 9:30:00\"),\n",
    "       (\"S-014\", \"Ada\", \"Sale\", 5000, \"X\", \"2018-06-01 9:30:00\"),\n",
    "       (\"S-015\", \"Peter\", \"Sale\", 3500, \"M\", \"2018-10-01 9:30:00\"),\n",
    "       (\"S-016\", \"Carl\", \"Sale\", 3500, \"M\", \"2018-10-01 9:30:00\"),\n",
    "       (\"S-017\", \"Terry\", \"Sale\", 3500, \"X\", \"2018-10-01 9:30:00\"),\n",
    "       (\"S-018\", \"Ethan\", \"Sale\", 3500, \"X\", \"2018-11-01 9:30:00\"),\n",
    "       (\"S-019\", \"Ethan\", \"Sale\", 3500, \"M\", \"2018-11-01 9:30:00\"),\n",
    "       (\"S-020\", \"Lola\", \"Sale\", 6500, \"F\", \"2018-11-01 9:30:00\"),\n",
    "       (\"CS-001\", \"Olive\", \"Customer Service\", 6000, \"X\", \"2018-01-01 9:30:00\"),\n",
    "       (\"CS-002\", \"Larry\", \"Customer Service\", 6000, \"X\", \"2018-01-01 9:30:00\"),\n",
    "       (\"CS-003\", \"Jeffrey\", \"Customer Service\", 9000, \"X\", \"2018-01-01 10:30:00\"),\n",
    "       (\"CS-004\", \"Alani\", \"Customer Service\", 4500, \"X\", \"2018-02-01 9:30:00\"),\n",
    "       (\"F-001\", \"Frank\", \"Finance and Accounting\", 9000, \"M\", \"2017-04-10 10:30:00\"),\n",
    "       (\"F-002\", \"Peter\", \"Finance and Accounting\", 11500, \"M\", \"2017-04-10 10:30:00\"),\n",
    "       (\"F-003\", \"Nathan\", \"Finance and Accounting\", 8500, \"M\", \"2017-08-10 10:30:00\"),\n",
    "       (\"F-004\", \"Walter\", \"Finace and Accounting\", 9000, \"M\", \"2018-10-01 10:30:00\"),\n",
    "       (\"IT-001\", \"Roger\", \"IT\", 4500, \"M\", \"2018-12-01 9:30:00\"),\n",
    "       (\"IT-002\", \"Philip\", \"IT\", 4500, \"M\", \"2018-12-01 9:20:00\"),\n",
    "       (\"SEC-001\", \"Gabriel\", \"Security\", 8000, \"M\", \"2017-04-10 10:30:00\"),\n",
    "       (\"SEC-002\", \"Bruce\", \"Security\", 6500, \"M\", \"2017-04-10 10:30:00\"),\n",
    "       (\"SEC-003\", \"Arthur\", \"Security\", 4500, \"M\", \"2018-01-01 9:30:00\"),\n",
    "       (\"SEC-004\", \"Noah\", \"Security\", 4500, \"M\", \"2018-01-01 9:30:00\"),\n",
    "       (\"SEC-005\", \"Jerry\", \"Security\", 3500, \"M\", \"2018-01-01 9:30:00\"),\n",
    "       (\"SEC-006\", \"Adam\", \"Security\", 3500, \"M\", \"2018-05-01 9:30:00\")\n",
    "      ]"
   ]
  },
  {
   "cell_type": "code",
   "execution_count": 35,
   "id": "d75d19b2-9dc5-41f3-9e0b-91b12ff53666",
   "metadata": {},
   "outputs": [],
   "source": [
    "# Define the Spark datatye here\n",
    "labels = [\n",
    "     ('id', StringType()),\n",
    "     ('name', StringType()),\n",
    "     ('dept', StringType()),\n",
    "     ('salary', IntegerType()),\n",
    "     ('Sex', StringType()),\n",
    "     ('hired_date', StringType())\n",
    "]\n",
    "schema = StructType([StructField(x[0], x[1], True) for x in labels])"
   ]
  },
  {
   "cell_type": "code",
   "execution_count": 36,
   "id": "e990ac4a-115c-4256-b51c-6cd6d5392beb",
   "metadata": {},
   "outputs": [],
   "source": [
    "# create dataframe here\n",
    "emp_df = spark.createDataFrame(data=emp, schema=schema)"
   ]
  },
  {
   "cell_type": "code",
   "execution_count": 37,
   "id": "7c71c0cb-f3cf-4c18-8f29-3821d9529040",
   "metadata": {},
   "outputs": [
    {
     "name": "stdout",
     "output_type": "stream",
     "text": [
      "+------+--------+---------------+------+---+-------------------+\n",
      "|id    |name    |dept           |salary|Sex|hired_date         |\n",
      "+------+--------+---------------+------+---+-------------------+\n",
      "|MR-001|Alice   |Market Research|7500  |F  |2017-02-10 9:30:00 |\n",
      "|MR-002|Bob     |Market Research|7500  |M  |2018-04-10 9:30:00 |\n",
      "|MR-003|John    |Market Research|9500  |M  |2019-01-01 10:30:00|\n",
      "|M-001 |Jonathan|Marketing      |4500  |O  |2017-04-10 9:30:00 |\n",
      "|M-002 |Ethan   |Marketing      |6000  |M  |2017-04-10 9:30:00 |\n",
      "|M-003 |Elyra   |Marketing      |7500  |O  |2017-04-10 9:30:00 |\n",
      "|M-004 |Sophia  |Marketing      |8000  |F  |2017-04-10 9:30:00 |\n",
      "|M-005 |Mia     |Marketing      |5000  |F  |2017-04-10 9:30:00 |\n",
      "|M-006 |Ava     |Marketing      |4500  |F  |2018-01-01 9:15:00 |\n",
      "|M-007 |Olivia  |Marketing      |6500  |F  |2019-02-10 10:30:00|\n",
      "|M-008 |Luca    |Marketing      |3000  |M  |2019-05-01 9:15:00 |\n",
      "|HR-001|James   |Human Resource |4500  |M  |2018-10-01 9:30:00 |\n",
      "|HR-002|Robert  |Human Resource |5500  |M  |2018-10-01 9:30:00 |\n",
      "|HR-003|Joseph  |Human Resuorce |6000  |M  |2019-01-01 10:30:00|\n",
      "|HR-004|Mark    |Human Resource |3500  |O  |2019-02-01 9:30:00 |\n",
      "|HR-005|Chloe   |Human Resource |9000  |F  |2019-02-02 9:30:00 |\n",
      "|HR-006|Hazel   |Human Resource |5500  |F  |2019-05-01 9:30:00 |\n",
      "|HR-007|Zoey    |Human Resource |4500  |F  |2019-06-01 9:30:00 |\n",
      "|S-001 |Grace   |Sale           |8000  |F  |2017-04-10 9:30:00 |\n",
      "|S-002 |Avery   |Sale           |6000  |F  |2017-04-10 9:30:00 |\n",
      "+------+--------+---------------+------+---+-------------------+\n",
      "only showing top 20 rows\n",
      "\n"
     ]
    }
   ],
   "source": [
    "emp_df.show(truncate=False)"
   ]
  },
  {
   "cell_type": "code",
   "execution_count": 39,
   "id": "8badc082-3ec5-4814-8a6a-a17f376a6080",
   "metadata": {},
   "outputs": [
    {
     "name": "stdout",
     "output_type": "stream",
     "text": [
      "+-----+-------+----+------+---+------------------+\n",
      "|id   |name   |dept|salary|Sex|hired_date        |\n",
      "+-----+-------+----+------+---+------------------+\n",
      "|S-001|Grace  |Sale|8000  |F  |2017-04-10 9:30:00|\n",
      "|S-002|Avery  |Sale|6000  |F  |2017-04-10 9:30:00|\n",
      "|S-003|Charles|Sale|5000  |M  |2017-04-10 9:30:00|\n",
      "|S-004|Andrew |Sale|4500  |M  |2017-04-10 9:30:00|\n",
      "|S-005|Paul   |Sale|9500  |O  |2017-04-10 9:30:00|\n",
      "|S-006|Joshua |Sale|4500  |M  |2017-04-10 9:30:00|\n",
      "|S-007|Steven |Sale|5000  |M  |2017-04-10 9:30:00|\n",
      "|S-008|Bella  |Sale|4500  |F  |2017-04-10 9:30:00|\n",
      "|S-009|Elena  |Sale|5000  |X  |2018-02-10 9:30:00|\n",
      "|S-010|Skylar |Sale|3500  |F  |2018-02-04 9:30:00|\n",
      "|S-011|Maya   |Sale|3500  |F  |2018-05-05 9:30:00|\n",
      "|S-012|Sophie |Sale|3500  |X  |2018-05-05 9:30:00|\n",
      "|S-013|Sara   |Sale|8000  |F  |2018-06-01 9:30:00|\n",
      "|S-014|Ada    |Sale|5000  |X  |2018-06-01 9:30:00|\n",
      "|S-015|Peter  |Sale|3500  |M  |2018-10-01 9:30:00|\n",
      "|S-016|Carl   |Sale|3500  |M  |2018-10-01 9:30:00|\n",
      "|S-017|Terry  |Sale|3500  |X  |2018-10-01 9:30:00|\n",
      "|S-018|Ethan  |Sale|3500  |X  |2018-11-01 9:30:00|\n",
      "|S-019|Ethan  |Sale|3500  |M  |2018-11-01 9:30:00|\n",
      "|S-020|Lola   |Sale|6500  |F  |2018-11-01 9:30:00|\n",
      "+-----+-------+----+------+---+------------------+\n",
      "\n"
     ]
    }
   ],
   "source": [
    "emp_df.filter(emp_df['dept'] == 'Sale').show(truncate=False)"
   ]
  },
  {
   "cell_type": "code",
   "execution_count": null,
   "id": "14bd3934-0461-452f-a99f-33895f76b416",
   "metadata": {},
   "outputs": [],
   "source": []
  }
 ],
 "metadata": {
  "kernelspec": {
   "display_name": "Python 3 (ipykernel)",
   "language": "python",
   "name": "python3"
  },
  "language_info": {
   "codemirror_mode": {
    "name": "ipython",
    "version": 3
   },
   "file_extension": ".py",
   "mimetype": "text/x-python",
   "name": "python",
   "nbconvert_exporter": "python",
   "pygments_lexer": "ipython3",
   "version": "3.9.5"
  }
 },
 "nbformat": 4,
 "nbformat_minor": 5
}
