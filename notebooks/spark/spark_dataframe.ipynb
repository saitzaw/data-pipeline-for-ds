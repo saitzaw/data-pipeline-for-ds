{
 "cells": [
  {
   "cell_type": "code",
   "execution_count": 1,
   "id": "c692da0f-9dae-4f11-a3e9-915cd0be1cae",
   "metadata": {},
   "outputs": [],
   "source": [
    "import os\n",
    "import pyspark\n",
    "import findspark\n",
    "findspark.init()\n",
    "from pyspark.sql import SparkSession\n",
    "from pyspark.sql.types import *"
   ]
  },
  {
   "cell_type": "code",
   "execution_count": 3,
   "id": "f924908f-2915-4794-ba8e-69931c10a6cf",
   "metadata": {},
   "outputs": [],
   "source": [
    "os.environ[\"JAVA_HOME\"] = \"/usr/lib/jvm/java-8-openjdk-amd64\"\n",
    "os.environ[\"SPARK_HOME\"] = \"/opt/spark\"\n",
    "spark_loca = \"local[*]\"\n",
    "spark = SparkSession.builder.master(spark_loca).getOrCreate()"
   ]
  },
  {
   "cell_type": "code",
   "execution_count": 4,
   "id": "20621470-c0ac-4cd5-abbc-69b88e3fcf93",
   "metadata": {},
   "outputs": [],
   "source": [
    "# Sample emp data\n",
    "# this cell will be longer, as add the dummy data but almost similar to real data\n",
    "data = [(1, \"AA\", \"dept1\", 7500, \"F\", \"2017-02-10 9:30:00\"),\n",
    "       (2, \"BB\", \"dept1\", 7500, \"M\", \"2018-04-10 9:30:00\"),\n",
    "       (3, \"CC\", \"dept2\", 9500, \"M\", \"2019-01-01 10:30:00\"),\n",
    "       (4, \"DD\", \"dept3\", 4500, \"O\", \"2017-04-10 9:30:00\"),\n",
    "       (5, \"EE\", \"dept3\", 6000, \"M\", \"2017-04-10 9:30:00\"),\n",
    "       (6, \"FF\", \"dept4\", 7500, \"O\", \"2017-04-10 9:30:00\"),\n",
    "       (7, \"GG\", \"dept4\", 8000, \"F\", \"2017-04-10 9:30:00\"),\n",
    "       (8, \"HH\", \"dept5\", 5000, \"F\", \"2017-04-10 9:30:00\"),\n",
    "       (9, \"II\", \"dept5\", 4500, \"F\", \"2018-01-01 9:15:00\"),\n",
    "       (10, \"JJ\", \"dept5\", 6500, \"F\", \"2019-02-10 10:30:00\")\n",
    "      ]"
   ]
  },
  {
   "cell_type": "code",
   "execution_count": 5,
   "id": "d75d19b2-9dc5-41f3-9e0b-91b12ff53666",
   "metadata": {},
   "outputs": [],
   "source": [
    "# Define the Spark datatye here\n",
    "labels = [\n",
    "     ('id', IntegerType()),\n",
    "     ('name', StringType()),\n",
    "     ('dept', StringType()),\n",
    "     ('salary', IntegerType()),\n",
    "     ('Sex', StringType()),\n",
    "     ('hired_date', StringType())\n",
    "]\n",
    "schema = StructType([StructField(x[0], x[1], True) for x in labels])"
   ]
  },
  {
   "cell_type": "code",
   "execution_count": 6,
   "id": "e990ac4a-115c-4256-b51c-6cd6d5392beb",
   "metadata": {},
   "outputs": [],
   "source": [
    "# create dataframe here\n",
    "emp_df = spark.createDataFrame(data=data, schema=schema)"
   ]
  },
  {
   "cell_type": "code",
   "execution_count": 7,
   "id": "7c71c0cb-f3cf-4c18-8f29-3821d9529040",
   "metadata": {},
   "outputs": [
    {
     "name": "stderr",
     "output_type": "stream",
     "text": [
      "                                                                                \r"
     ]
    },
    {
     "name": "stdout",
     "output_type": "stream",
     "text": [
      "+---+----+-----+------+---+-------------------+\n",
      "|id |name|dept |salary|Sex|hired_date         |\n",
      "+---+----+-----+------+---+-------------------+\n",
      "|1  |AA  |dept1|7500  |F  |2017-02-10 9:30:00 |\n",
      "|2  |BB  |dept1|7500  |M  |2018-04-10 9:30:00 |\n",
      "|3  |CC  |dept2|9500  |M  |2019-01-01 10:30:00|\n",
      "|4  |DD  |dept3|4500  |O  |2017-04-10 9:30:00 |\n",
      "|5  |EE  |dept3|6000  |M  |2017-04-10 9:30:00 |\n",
      "|6  |FF  |dept4|7500  |O  |2017-04-10 9:30:00 |\n",
      "|7  |GG  |dept4|8000  |F  |2017-04-10 9:30:00 |\n",
      "|8  |HH  |dept5|5000  |F  |2017-04-10 9:30:00 |\n",
      "|9  |II  |dept5|4500  |F  |2018-01-01 9:15:00 |\n",
      "|10 |JJ  |dept5|6500  |F  |2019-02-10 10:30:00|\n",
      "+---+----+-----+------+---+-------------------+\n",
      "\n"
     ]
    }
   ],
   "source": [
    "emp_df.show(truncate=False)"
   ]
  },
  {
   "cell_type": "code",
   "execution_count": 8,
   "id": "8badc082-3ec5-4814-8a6a-a17f376a6080",
   "metadata": {},
   "outputs": [
    {
     "name": "stdout",
     "output_type": "stream",
     "text": [
      "+---+----+-----+------+---+------------------+\n",
      "|id |name|dept |salary|Sex|hired_date        |\n",
      "+---+----+-----+------+---+------------------+\n",
      "|1  |AA  |dept1|7500  |F  |2017-02-10 9:30:00|\n",
      "|2  |BB  |dept1|7500  |M  |2018-04-10 9:30:00|\n",
      "+---+----+-----+------+---+------------------+\n",
      "\n"
     ]
    }
   ],
   "source": [
    "emp_df.filter(emp_df['dept'] == 'dept1').show(truncate=False)"
   ]
  },
  {
   "cell_type": "code",
   "execution_count": null,
   "id": "14bd3934-0461-452f-a99f-33895f76b416",
   "metadata": {},
   "outputs": [],
   "source": []
  }
 ],
 "metadata": {
  "kernelspec": {
   "display_name": "Python 3 (ipykernel)",
   "language": "python",
   "name": "python3"
  },
  "language_info": {
   "codemirror_mode": {
    "name": "ipython",
    "version": 3
   },
   "file_extension": ".py",
   "mimetype": "text/x-python",
   "name": "python",
   "nbconvert_exporter": "python",
   "pygments_lexer": "ipython3",
   "version": "3.9.5"
  }
 },
 "nbformat": 4,
 "nbformat_minor": 5
}
