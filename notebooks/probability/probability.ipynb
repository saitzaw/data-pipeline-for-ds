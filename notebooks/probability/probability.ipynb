{
 "cells": [
  {
   "cell_type": "markdown",
   "id": "342b3862-9180-4ade-a637-5e85165ce84d",
   "metadata": {},
   "source": [
    "# Probability "
   ]
  },
  {
   "cell_type": "code",
   "execution_count": 1,
   "id": "9429b7be-049a-483c-a267-a3558d1865de",
   "metadata": {},
   "outputs": [],
   "source": [
    "import pandas as pd\n",
    "import matplotlib.pyplot as plt"
   ]
  },
  {
   "cell_type": "markdown",
   "id": "093d8a3c-d2ad-4a41-9461-ce9110bcff9a",
   "metadata": {},
   "source": [
    "### Based on these series\n",
    "- Game of Throne\n",
    "- West world\n",
    "- others\n",
    "\n",
    "### Note\n",
    " * Assume the probability sample based on random 500 people \n",
    " * values and example from  www.zstatistics.com, zedstatistics from youtube channle"
   ]
  },
  {
   "cell_type": "code",
   "execution_count": 2,
   "id": "99ed2609-ea08-4cf3-81b9-932e20b9c48a",
   "metadata": {},
   "outputs": [],
   "source": [
    "data = {'Series': ['GOT', 'WestWorld', 'Others'],\n",
    "        'M': [80, 100, 50],\n",
    "        'F': [120, 25, 125]}"
   ]
  },
  {
   "cell_type": "code",
   "execution_count": 3,
   "id": "d7b6d1eb-4f50-4a0d-a46e-78c196f9fbdf",
   "metadata": {},
   "outputs": [],
   "source": [
    "df = pd.DataFrame(data=data)"
   ]
  },
  {
   "cell_type": "code",
   "execution_count": 4,
   "id": "6a2abb78-055f-4953-bf22-5108b7321754",
   "metadata": {},
   "outputs": [
    {
     "data": {
      "text/html": [
       "<div>\n",
       "<style scoped>\n",
       "    .dataframe tbody tr th:only-of-type {\n",
       "        vertical-align: middle;\n",
       "    }\n",
       "\n",
       "    .dataframe tbody tr th {\n",
       "        vertical-align: top;\n",
       "    }\n",
       "\n",
       "    .dataframe thead th {\n",
       "        text-align: right;\n",
       "    }\n",
       "</style>\n",
       "<table border=\"1\" class=\"dataframe\">\n",
       "  <thead>\n",
       "    <tr style=\"text-align: right;\">\n",
       "      <th></th>\n",
       "      <th>Series</th>\n",
       "      <th>M</th>\n",
       "      <th>F</th>\n",
       "    </tr>\n",
       "  </thead>\n",
       "  <tbody>\n",
       "    <tr>\n",
       "      <th>0</th>\n",
       "      <td>GOT</td>\n",
       "      <td>80</td>\n",
       "      <td>120</td>\n",
       "    </tr>\n",
       "    <tr>\n",
       "      <th>1</th>\n",
       "      <td>WestWorld</td>\n",
       "      <td>100</td>\n",
       "      <td>25</td>\n",
       "    </tr>\n",
       "    <tr>\n",
       "      <th>2</th>\n",
       "      <td>Others</td>\n",
       "      <td>50</td>\n",
       "      <td>125</td>\n",
       "    </tr>\n",
       "  </tbody>\n",
       "</table>\n",
       "</div>"
      ],
      "text/plain": [
       "      Series    M    F\n",
       "0        GOT   80  120\n",
       "1  WestWorld  100   25\n",
       "2     Others   50  125"
      ]
     },
     "execution_count": 4,
     "metadata": {},
     "output_type": "execute_result"
    }
   ],
   "source": [
    "df"
   ]
  },
  {
   "cell_type": "code",
   "execution_count": 5,
   "id": "aa439248-2b56-4df2-86d8-ddea9e6500bf",
   "metadata": {},
   "outputs": [],
   "source": [
    "df['total'] = df[['M', 'F']].sum(axis=1)"
   ]
  },
  {
   "cell_type": "code",
   "execution_count": 6,
   "id": "aee16ccc-992c-4ac2-93a6-e4579cbbb7dc",
   "metadata": {},
   "outputs": [
    {
     "data": {
      "text/html": [
       "<div>\n",
       "<style scoped>\n",
       "    .dataframe tbody tr th:only-of-type {\n",
       "        vertical-align: middle;\n",
       "    }\n",
       "\n",
       "    .dataframe tbody tr th {\n",
       "        vertical-align: top;\n",
       "    }\n",
       "\n",
       "    .dataframe thead th {\n",
       "        text-align: right;\n",
       "    }\n",
       "</style>\n",
       "<table border=\"1\" class=\"dataframe\">\n",
       "  <thead>\n",
       "    <tr style=\"text-align: right;\">\n",
       "      <th></th>\n",
       "      <th>Series</th>\n",
       "      <th>M</th>\n",
       "      <th>F</th>\n",
       "      <th>total</th>\n",
       "    </tr>\n",
       "  </thead>\n",
       "  <tbody>\n",
       "    <tr>\n",
       "      <th>0</th>\n",
       "      <td>GOT</td>\n",
       "      <td>80</td>\n",
       "      <td>120</td>\n",
       "      <td>200</td>\n",
       "    </tr>\n",
       "    <tr>\n",
       "      <th>1</th>\n",
       "      <td>WestWorld</td>\n",
       "      <td>100</td>\n",
       "      <td>25</td>\n",
       "      <td>125</td>\n",
       "    </tr>\n",
       "    <tr>\n",
       "      <th>2</th>\n",
       "      <td>Others</td>\n",
       "      <td>50</td>\n",
       "      <td>125</td>\n",
       "      <td>175</td>\n",
       "    </tr>\n",
       "  </tbody>\n",
       "</table>\n",
       "</div>"
      ],
      "text/plain": [
       "      Series    M    F  total\n",
       "0        GOT   80  120    200\n",
       "1  WestWorld  100   25    125\n",
       "2     Others   50  125    175"
      ]
     },
     "execution_count": 6,
     "metadata": {},
     "output_type": "execute_result"
    }
   ],
   "source": [
    "df"
   ]
  },
  {
   "cell_type": "code",
   "execution_count": 7,
   "id": "50356dea-2140-4382-bf4a-0257d51d9187",
   "metadata": {},
   "outputs": [
    {
     "name": "stdout",
     "output_type": "stream",
     "text": [
      "\n",
      " number of male=230\n",
      " number of female=270\n",
      " total number of subscribers=500\n"
     ]
    }
   ],
   "source": [
    "total_male = df['M'].sum(axis=0)\n",
    "total_female = df['F'].sum(axis=0)\n",
    "total = df['total'].sum(axis=0)\n",
    "print(f\"\\n \\\n",
    "number of male={total_male}\\n \\\n",
    "number of female={total_female}\\n \\\n",
    "total number of subscribers={total}\")"
   ]
  },
  {
   "cell_type": "code",
   "execution_count": 8,
   "id": "6070613f-24da-4c49-a108-f03e8cf5de98",
   "metadata": {},
   "outputs": [],
   "source": [
    "df = df.append({'Series': 'Total', 'M': total_male, 'F': total_female,'total': total}, ignore_index=True,)"
   ]
  },
  {
   "cell_type": "code",
   "execution_count": 9,
   "id": "88c08c56-5674-477f-af84-4366230d9ad9",
   "metadata": {},
   "outputs": [
    {
     "data": {
      "text/html": [
       "<div>\n",
       "<style scoped>\n",
       "    .dataframe tbody tr th:only-of-type {\n",
       "        vertical-align: middle;\n",
       "    }\n",
       "\n",
       "    .dataframe tbody tr th {\n",
       "        vertical-align: top;\n",
       "    }\n",
       "\n",
       "    .dataframe thead th {\n",
       "        text-align: right;\n",
       "    }\n",
       "</style>\n",
       "<table border=\"1\" class=\"dataframe\">\n",
       "  <thead>\n",
       "    <tr style=\"text-align: right;\">\n",
       "      <th></th>\n",
       "      <th>Series</th>\n",
       "      <th>M</th>\n",
       "      <th>F</th>\n",
       "      <th>total</th>\n",
       "    </tr>\n",
       "  </thead>\n",
       "  <tbody>\n",
       "    <tr>\n",
       "      <th>0</th>\n",
       "      <td>GOT</td>\n",
       "      <td>80</td>\n",
       "      <td>120</td>\n",
       "      <td>200</td>\n",
       "    </tr>\n",
       "    <tr>\n",
       "      <th>1</th>\n",
       "      <td>WestWorld</td>\n",
       "      <td>100</td>\n",
       "      <td>25</td>\n",
       "      <td>125</td>\n",
       "    </tr>\n",
       "    <tr>\n",
       "      <th>2</th>\n",
       "      <td>Others</td>\n",
       "      <td>50</td>\n",
       "      <td>125</td>\n",
       "      <td>175</td>\n",
       "    </tr>\n",
       "    <tr>\n",
       "      <th>3</th>\n",
       "      <td>Total</td>\n",
       "      <td>230</td>\n",
       "      <td>270</td>\n",
       "      <td>500</td>\n",
       "    </tr>\n",
       "  </tbody>\n",
       "</table>\n",
       "</div>"
      ],
      "text/plain": [
       "      Series    M    F  total\n",
       "0        GOT   80  120    200\n",
       "1  WestWorld  100   25    125\n",
       "2     Others   50  125    175\n",
       "3      Total  230  270    500"
      ]
     },
     "execution_count": 9,
     "metadata": {},
     "output_type": "execute_result"
    }
   ],
   "source": [
    "df"
   ]
  },
  {
   "cell_type": "code",
   "execution_count": 10,
   "id": "d860f018-ac5b-4c7e-9592-948d0f60f509",
   "metadata": {},
   "outputs": [
    {
     "data": {
      "text/html": [
       "<div>\n",
       "<style scoped>\n",
       "    .dataframe tbody tr th:only-of-type {\n",
       "        vertical-align: middle;\n",
       "    }\n",
       "\n",
       "    .dataframe tbody tr th {\n",
       "        vertical-align: top;\n",
       "    }\n",
       "\n",
       "    .dataframe thead th {\n",
       "        text-align: right;\n",
       "    }\n",
       "</style>\n",
       "<table border=\"1\" class=\"dataframe\">\n",
       "  <thead>\n",
       "    <tr style=\"text-align: right;\">\n",
       "      <th></th>\n",
       "      <th>M</th>\n",
       "      <th>F</th>\n",
       "      <th>total</th>\n",
       "    </tr>\n",
       "  </thead>\n",
       "  <tbody>\n",
       "    <tr>\n",
       "      <th>0</th>\n",
       "      <td>0.16</td>\n",
       "      <td>0.24</td>\n",
       "      <td>0.40</td>\n",
       "    </tr>\n",
       "    <tr>\n",
       "      <th>1</th>\n",
       "      <td>0.20</td>\n",
       "      <td>0.05</td>\n",
       "      <td>0.25</td>\n",
       "    </tr>\n",
       "    <tr>\n",
       "      <th>2</th>\n",
       "      <td>0.10</td>\n",
       "      <td>0.25</td>\n",
       "      <td>0.35</td>\n",
       "    </tr>\n",
       "    <tr>\n",
       "      <th>3</th>\n",
       "      <td>0.46</td>\n",
       "      <td>0.54</td>\n",
       "      <td>1.00</td>\n",
       "    </tr>\n",
       "  </tbody>\n",
       "</table>\n",
       "</div>"
      ],
      "text/plain": [
       "      M     F  total\n",
       "0  0.16  0.24   0.40\n",
       "1  0.20  0.05   0.25\n",
       "2  0.10  0.25   0.35\n",
       "3  0.46  0.54   1.00"
      ]
     },
     "execution_count": 10,
     "metadata": {},
     "output_type": "execute_result"
    }
   ],
   "source": [
    "# convert to relative distribution table\n",
    "df[df.columns[1:]]/500"
   ]
  },
  {
   "cell_type": "code",
   "execution_count": 11,
   "id": "edf17237-c8b2-4b3f-aa71-29b03ee16b08",
   "metadata": {},
   "outputs": [],
   "source": [
    "ndf = df.copy()\n",
    "ndf[ndf.columns[1:]] = ndf[ndf.columns[1:]]/500"
   ]
  },
  {
   "cell_type": "code",
   "execution_count": 12,
   "id": "040047c7-729e-4f9a-bcce-66acc75f1aa8",
   "metadata": {},
   "outputs": [
    {
     "data": {
      "text/html": [
       "<div>\n",
       "<style scoped>\n",
       "    .dataframe tbody tr th:only-of-type {\n",
       "        vertical-align: middle;\n",
       "    }\n",
       "\n",
       "    .dataframe tbody tr th {\n",
       "        vertical-align: top;\n",
       "    }\n",
       "\n",
       "    .dataframe thead th {\n",
       "        text-align: right;\n",
       "    }\n",
       "</style>\n",
       "<table border=\"1\" class=\"dataframe\">\n",
       "  <thead>\n",
       "    <tr style=\"text-align: right;\">\n",
       "      <th></th>\n",
       "      <th>Series</th>\n",
       "      <th>M</th>\n",
       "      <th>F</th>\n",
       "      <th>total</th>\n",
       "    </tr>\n",
       "  </thead>\n",
       "  <tbody>\n",
       "    <tr>\n",
       "      <th>0</th>\n",
       "      <td>GOT</td>\n",
       "      <td>0.16</td>\n",
       "      <td>0.24</td>\n",
       "      <td>0.40</td>\n",
       "    </tr>\n",
       "    <tr>\n",
       "      <th>1</th>\n",
       "      <td>WestWorld</td>\n",
       "      <td>0.20</td>\n",
       "      <td>0.05</td>\n",
       "      <td>0.25</td>\n",
       "    </tr>\n",
       "    <tr>\n",
       "      <th>2</th>\n",
       "      <td>Others</td>\n",
       "      <td>0.10</td>\n",
       "      <td>0.25</td>\n",
       "      <td>0.35</td>\n",
       "    </tr>\n",
       "    <tr>\n",
       "      <th>3</th>\n",
       "      <td>Total</td>\n",
       "      <td>0.46</td>\n",
       "      <td>0.54</td>\n",
       "      <td>1.00</td>\n",
       "    </tr>\n",
       "  </tbody>\n",
       "</table>\n",
       "</div>"
      ],
      "text/plain": [
       "      Series     M     F  total\n",
       "0        GOT  0.16  0.24   0.40\n",
       "1  WestWorld  0.20  0.05   0.25\n",
       "2     Others  0.10  0.25   0.35\n",
       "3      Total  0.46  0.54   1.00"
      ]
     },
     "execution_count": 12,
     "metadata": {},
     "output_type": "execute_result"
    }
   ],
   "source": [
    "ndf"
   ]
  },
  {
   "cell_type": "markdown",
   "id": "3d459cc7-26fd-42d5-8365-5f231bddf1d3",
   "metadata": {},
   "source": [
    "# to find following distribution \n",
    "- Marginal probability distribution\n",
    "- joint probabiliyt distribuition"
   ]
  },
  {
   "cell_type": "code",
   "execution_count": 13,
   "id": "3f8748b3-18d7-4552-9daa-33c1ce13dca9",
   "metadata": {},
   "outputs": [],
   "source": [
    "# marginal proability distribution\n",
    "p_mpd1 = ndf.iloc[3, 1:-1]"
   ]
  },
  {
   "cell_type": "code",
   "execution_count": 14,
   "id": "0519f87d-d0c6-4e99-84e2-988592a15f76",
   "metadata": {},
   "outputs": [
    {
     "data": {
      "text/plain": [
       "M    0.46\n",
       "F    0.54\n",
       "Name: 3, dtype: object"
      ]
     },
     "execution_count": 14,
     "metadata": {},
     "output_type": "execute_result"
    }
   ],
   "source": [
    "p_mpd1"
   ]
  },
  {
   "cell_type": "code",
   "execution_count": 15,
   "id": "2b062062-d815-48e1-a61b-9e233ca14355",
   "metadata": {},
   "outputs": [],
   "source": [
    "p_mpd2 = ndf['total'][:-1]"
   ]
  },
  {
   "cell_type": "code",
   "execution_count": 16,
   "id": "8669744c-2c58-44d1-a03f-1f689cb77794",
   "metadata": {},
   "outputs": [
    {
     "data": {
      "text/plain": [
       "0    0.40\n",
       "1    0.25\n",
       "2    0.35\n",
       "Name: total, dtype: float64"
      ]
     },
     "execution_count": 16,
     "metadata": {},
     "output_type": "execute_result"
    }
   ],
   "source": [
    "p_mpd2"
   ]
  },
  {
   "cell_type": "code",
   "execution_count": 17,
   "id": "313103b6-05bd-41be-83bd-eb63927fe36f",
   "metadata": {},
   "outputs": [],
   "source": [
    "# Joint probability distribution\n",
    "p_jpd = ndf[['M', 'F']][:-1]"
   ]
  },
  {
   "cell_type": "code",
   "execution_count": 18,
   "id": "70782d6d-3b4f-40ff-9e45-5e4ff15963a9",
   "metadata": {},
   "outputs": [
    {
     "data": {
      "text/html": [
       "<div>\n",
       "<style scoped>\n",
       "    .dataframe tbody tr th:only-of-type {\n",
       "        vertical-align: middle;\n",
       "    }\n",
       "\n",
       "    .dataframe tbody tr th {\n",
       "        vertical-align: top;\n",
       "    }\n",
       "\n",
       "    .dataframe thead th {\n",
       "        text-align: right;\n",
       "    }\n",
       "</style>\n",
       "<table border=\"1\" class=\"dataframe\">\n",
       "  <thead>\n",
       "    <tr style=\"text-align: right;\">\n",
       "      <th></th>\n",
       "      <th>M</th>\n",
       "      <th>F</th>\n",
       "    </tr>\n",
       "  </thead>\n",
       "  <tbody>\n",
       "    <tr>\n",
       "      <th>0</th>\n",
       "      <td>0.16</td>\n",
       "      <td>0.24</td>\n",
       "    </tr>\n",
       "    <tr>\n",
       "      <th>1</th>\n",
       "      <td>0.20</td>\n",
       "      <td>0.05</td>\n",
       "    </tr>\n",
       "    <tr>\n",
       "      <th>2</th>\n",
       "      <td>0.10</td>\n",
       "      <td>0.25</td>\n",
       "    </tr>\n",
       "  </tbody>\n",
       "</table>\n",
       "</div>"
      ],
      "text/plain": [
       "      M     F\n",
       "0  0.16  0.24\n",
       "1  0.20  0.05\n",
       "2  0.10  0.25"
      ]
     },
     "execution_count": 18,
     "metadata": {},
     "output_type": "execute_result"
    }
   ],
   "source": [
    "p_jpd"
   ]
  },
  {
   "cell_type": "code",
   "execution_count": 19,
   "id": "3a85bf6d-aeb2-4472-a7be-34dbe2cf7edf",
   "metadata": {},
   "outputs": [],
   "source": [
    "# distribution plot\n",
    "x = ndf['Series'][:-1]\n",
    "ym = ndf['M'][:-1]\n",
    "yf = ndf['F'][:-1]"
   ]
  },
  {
   "cell_type": "code",
   "execution_count": 20,
   "id": "2fc1ec93-6989-45a2-9131-c012fc160ff6",
   "metadata": {},
   "outputs": [
    {
     "data": {
      "text/plain": [
       "Text(0.5, 1.0, 'Male fav series distribution')"
      ]
     },
     "execution_count": 20,
     "metadata": {},
     "output_type": "execute_result"
    },
    {
     "data": {
      "image/png": "[encoded data removed]",
      "text/plain": [
       "<Figure size 432x288 with 1 Axes>"
      ]
     },
     "metadata": {
      "needs_background": "light"
     },
     "output_type": "display_data"
    }
   ],
   "source": [
    "plt.bar(x, ym, width=0.2)\n",
    "plt.title(\"Male fav series distribution\")"
   ]
  },
  {
   "cell_type": "code",
   "execution_count": 21,
   "id": "be619631-850d-4eea-8e8f-0e404d44f0d2",
   "metadata": {},
   "outputs": [
    {
     "data": {
      "text/plain": [
       "Text(0.5, 1.0, 'Female fav series distribution')"
      ]
     },
     "execution_count": 21,
     "metadata": {},
     "output_type": "execute_result"
    },
    {
     "data": {
      "image/png": "[encoded data removed]",
      "text/plain": [
       "<Figure size 432x288 with 1 Axes>"
      ]
     },
     "metadata": {
      "needs_background": "light"
     },
     "output_type": "display_data"
    }
   ],
   "source": [
    "plt.bar(x, yf, width=0.2)\n",
    "plt.title(\"Female fav series distribution\")"
   ]
  },
  {
   "cell_type": "markdown",
   "id": "e6272b3a-9d99-4a5e-b0cf-2058cb74ccc5",
   "metadata": {},
   "source": [
    "# Conditional probability"
   ]
  },
  {
   "cell_type": "markdown",
   "id": "c645e4dc-3569-43ce-8ea5-162a7aba953d",
   "metadata": {},
   "source": [
    "## Formula \n",
    "$$P(A | B) = \\frac{P(A) \\cap P(B)}{P(B)}$$"
   ]
  },
  {
   "cell_type": "code",
   "execution_count": 22,
   "id": "2c314368-d836-4f82-8560-c49d33fa4063",
   "metadata": {},
   "outputs": [
    {
     "name": "stdout",
     "output_type": "stream",
     "text": [
      "probability of female that chance to be a favourite show is GOT = 0.4444444444444444\n"
     ]
    }
   ],
   "source": [
    "# find the probability of female that chance to \n",
    "# be a favourite show is GOT\n",
    "p_got_given_female = ndf.iloc[0, 2]/ndf.iloc[3, 2]\n",
    "print(f\"probability of female that chance to \\\n",
    "be a favourite show is GOT = {p_got_given_female}\")"
   ]
  },
  {
   "cell_type": "code",
   "execution_count": 23,
   "id": "f06f78e8-7835-4d13-a1b6-d466396128e2",
   "metadata": {},
   "outputs": [
    {
     "name": "stdout",
     "output_type": "stream",
     "text": [
      "probability of subscriber's favourite shows is WestWorld and chance to be a male = 0.8\n"
     ]
    }
   ],
   "source": [
    "# find the probability of subscriber's favourite show is WestWorld \n",
    "# and chance to be a male\n",
    "p_male_given_westworld = ndf.iloc[1, 1]/ndf.iloc[1, 3]\n",
    "print(f\"probability of subscriber's favourite shows \\\n",
    "is WestWorld and chance to be a male = {p_male_given_westworld}\")"
   ]
  },
  {
   "cell_type": "markdown",
   "id": "af0cf41b-4829-41b3-824e-a074a57791f8",
   "metadata": {},
   "source": [
    "## Checking dependent events or independent events\n",
    "(i) $$ P(A|B) = P(A)$$\n",
    "(ii) $$ P(A \\cap B) = P(A) \\times P(B) $$"
   ]
  },
  {
   "cell_type": "code",
   "execution_count": 24,
   "id": "f8c5364b-c0cd-4aa3-a843-28b720736fb1",
   "metadata": {},
   "outputs": [
    {
     "name": "stdout",
     "output_type": "stream",
     "text": [
      "not independent\n"
     ]
    }
   ],
   "source": [
    "# i\n",
    "p_got_given_male = ndf.iloc[0, 1]/ndf.iloc[3, 1]\n",
    "p_got = ndf.iloc[0, 3]\n",
    "print('independent') if p_got_given_male == p_got else print('not independent')"
   ]
  },
  {
   "cell_type": "code",
   "execution_count": 25,
   "id": "88b4c354-b783-4154-9ee3-aa2d9c079b41",
   "metadata": {},
   "outputs": [
    {
     "name": "stdout",
     "output_type": "stream",
     "text": [
      "not independent\n"
     ]
    }
   ],
   "source": [
    "# ii\n",
    "p_westworld_intersect_female = ndf.iloc[1, 2]\n",
    "p_westworld = ndf.iloc[1, 3]\n",
    "p_female = ndf.iloc[3, 2]\n",
    "p_multiply = p_westworld * p_female\n",
    "print('independent') if p_westworld_intersect_female == p_multiply else print('not independent')"
   ]
  }
 ],
 "metadata": {
  "kernelspec": {
   "display_name": "Python 3 (ipykernel)",
   "language": "python",
   "name": "python3"
  },
  "language_info": {
   "codemirror_mode": {
    "name": "ipython",
    "version": 3
   },
   "file_extension": ".py",
   "mimetype": "text/x-python",
   "name": "python",
   "nbconvert_exporter": "python",
   "pygments_lexer": "ipython3",
   "version": "3.9.5"
  }
 },
 "nbformat": 4,
 "nbformat_minor": 5
}
