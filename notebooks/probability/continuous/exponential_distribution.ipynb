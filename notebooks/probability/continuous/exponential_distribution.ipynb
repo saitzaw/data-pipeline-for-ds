{
 "cells": [
  {
   "cell_type": "code",
   "execution_count": 1,
   "id": "0759112c-e14d-4679-88b5-c7c57032db65",
   "metadata": {},
   "outputs": [],
   "source": [
    "import numpy as np\n",
    "import seaborn as sns\n",
    "import matplotlib.pyplot as plt\n",
    "from scipy.stats import expon\n",
    "from IPython.display import Math, display\n",
    "sns.set(color_codes=True)\n",
    "sns.set(rc={'figure.figsize': (5, 5)})"
   ]
  },
  {
   "cell_type": "markdown",
   "id": "68ff353c-f400-42e7-a9a1-305fef93ffd2",
   "metadata": {},
   "source": [
    "## Formula X~Exp(x; labmda)\n",
    "\n",
    "- lambda = 1/mu\n",
    "\n",
    "### Probability density function\n",
    "\n",
    "$$f(x; \\lambda) = \\left\\{\n",
    "        \\begin{array}{ll}\n",
    "            \\lambda e^{-x \\lambda}  \\; x \\geq 0 \\\\\n",
    "            0 \\; \\; \\; \\; \\; \\; \\; x < 0\n",
    "        \\end{array}\n",
    "    \\right.$$\n",
    "\n",
    "### Cumulative density function\n",
    "$$F(x; \\lambda) = \\left\\{\n",
    "        \\begin{array}{ll}\n",
    "           1- e^{-x \\lambda}  \\; x \\geq 0 \\\\\n",
    "            0 \\; \\; \\; \\; \\; \\; \\; \\; \\; \\; \\; x < 0\n",
    "        \\end{array}\n",
    "    \\right.$$\n"
   ]
  },
  {
   "cell_type": "code",
   "execution_count": 2,
   "id": "3d59f320-d0d5-47db-9827-80cd591fb88e",
   "metadata": {},
   "outputs": [],
   "source": [
    "# generate random numbers\n",
    "data_expon = expon.rvs(size=1000)"
   ]
  },
  {
   "cell_type": "code",
   "execution_count": 3,
   "id": "00b99006-bacb-4419-a3b3-ab742f0eaf77",
   "metadata": {},
   "outputs": [
    {
     "data": {
      "image/png": "[encoded data removed]",
      "text/plain": [
       "<Figure size 360x360 with 1 Axes>"
      ]
     },
     "metadata": {},
     "output_type": "display_data"
    }
   ],
   "source": [
    "ax = sns.histplot(data_expon,\n",
    "                  kde=True,\n",
    "                  color='skyblue')\n",
    "ax.set(xlabel='Exponential Distribution', ylabel='Frequency');"
   ]
  },
  {
   "cell_type": "code",
   "execution_count": 4,
   "id": "360bb065-2af5-4c1a-b971-6b62c7384b4f",
   "metadata": {},
   "outputs": [
    {
     "name": "stdout",
     "output_type": "stream",
     "text": [
      "x\t P(X=x)\n",
      "0 \t 1.0\n",
      "1 \t 0.36787944117144233\n",
      "2 \t 0.1353352832366127\n",
      "3 \t 0.049787068367863944\n",
      "4 \t 0.01831563888873418\n",
      "5 \t 0.006737946999085467\n",
      "6 \t 0.0024787521766663585\n",
      "7 \t 0.0009118819655545162\n",
      "8 \t 0.00033546262790251185\n",
      "9 \t 0.00012340980408667956\n",
      "10 \t 4.5399929762484854e-05\n",
      "11 \t 1.670170079024566e-05\n",
      "12 \t 6.14421235332821e-06\n",
      "13 \t 2.2603294069810542e-06\n",
      "14 \t 8.315287191035679e-07\n",
      "15 \t 3.059023205018258e-07\n",
      "16 \t 1.1253517471925912e-07\n",
      "17 \t 4.139937718785167e-08\n",
      "18 \t 1.522997974471263e-08\n",
      "19 \t 5.602796437537268e-09\n",
      "20 \t 2.061153622438558e-09\n",
      "21 \t 7.582560427911907e-10\n",
      "22 \t 2.7894680928689246e-10\n",
      "23 \t 1.026187963170189e-10\n",
      "24 \t 3.775134544279098e-11\n",
      "25 \t 1.3887943864964021e-11\n",
      "26 \t 5.109089028063325e-12\n",
      "27 \t 1.8795288165390832e-12\n",
      "mean is 1.0 and variance is 1.0\n"
     ]
    }
   ],
   "source": [
    "# simulation\n",
    "\"\"\"\n",
    "assume selling pizza in 28 days\n",
    "mean value of selling pizza is 12 per day\n",
    "\"\"\"\n",
    "mu = 12\n",
    "n = 28\n",
    "x_vals = np.arange(n)\n",
    "mu, var = expon.stats()\n",
    "expon_dist = [expon.pdf(x, loc=0, scale=1/mu) for x in x_vals]\n",
    "print(\"x\\t P(X=x)\")\n",
    "for key, values in enumerate(expon_dist):\n",
    "    print(f\"{key} \\t {values}\")\n",
    "print(f\"mean is {mu} and variance is {var}\")"
   ]
  },
  {
   "cell_type": "code",
   "execution_count": null,
   "id": "58cdaaba-0a53-41c8-9cdb-c83304e8cc07",
   "metadata": {},
   "outputs": [],
   "source": []
  }
 ],
 "metadata": {
  "kernelspec": {
   "display_name": "Python 3 (ipykernel)",
   "language": "python",
   "name": "python3"
  },
  "language_info": {
   "codemirror_mode": {
    "name": "ipython",
    "version": 3
   },
   "file_extension": ".py",
   "mimetype": "text/x-python",
   "name": "python",
   "nbconvert_exporter": "python",
   "pygments_lexer": "ipython3",
   "version": "3.9.5"
  }
 },
 "nbformat": 4,
 "nbformat_minor": 5
}
