{
 "cells": [
  {
   "cell_type": "code",
   "execution_count": 1,
   "id": "9a55fcbc-3235-4618-a50d-1efb96dfaaa8",
   "metadata": {},
   "outputs": [],
   "source": [
    "import numpy as np\n",
    "import seaborn as sns\n",
    "import matplotlib.pyplot as plt\n",
    "from scipy.stats import norm\n",
    "from IPython.display import Math, display\n",
    "sns.set(color_codes=True)\n",
    "sns.set(rc={'figure.figsize': (5, 5)})"
   ]
  },
  {
   "cell_type": "markdown",
   "id": "48172330-d042-46e8-b7af-bbaee786a160",
   "metadata": {},
   "source": [
    "## Formula X ~ N(mu, sigma square)\n",
    "- mu mean \n",
    "- sigma standard deviation\n",
    "\n",
    "### probability density function \n",
    "$$ f(x; \\mu, \\sigma) = \\frac{1}{\\sigma \\sqrt{2\\pi}} e^{-\\frac{1}{2} (\\frac{x-\\mu}{\\sigma})^2}$$\n",
    "\n",
    "### cumulative distribution function\n",
    "$$$$"
   ]
  },
  {
   "cell_type": "code",
   "execution_count": null,
   "id": "90c1e39b-9ab1-4ba4-b9d2-968d9a43c22d",
   "metadata": {},
   "outputs": [],
   "source": []
  }
 ],
 "metadata": {
  "kernelspec": {
   "display_name": "Python 3 (ipykernel)",
   "language": "python",
   "name": "python3"
  },
  "language_info": {
   "codemirror_mode": {
    "name": "ipython",
    "version": 3
   },
   "file_extension": ".py",
   "mimetype": "text/x-python",
   "name": "python",
   "nbconvert_exporter": "python",
   "pygments_lexer": "ipython3",
   "version": "3.9.5"
  }
 },
 "nbformat": 4,
 "nbformat_minor": 5
}
