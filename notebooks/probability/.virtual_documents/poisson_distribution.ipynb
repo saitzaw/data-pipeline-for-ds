import numpy as np
import seaborn as sns
import matplotlib.pyplot as plt
from scipy.stats import poisson
from IPython.display import Math, display
sns.set(color_codes=True)
sns.set(rc={'figure.figsize': (5, 5)})


# generate random numbers
data_poisson = poisson.rvs(mu=3, size=1000)


ax = sns.histplot(data_poisson,
                  kde=True,
                  color='skyblue')
ax.set(xlabel='Poisson Distribution', ylabel='Frequency');


# simulation
mu = 4
n = 10
x_vals = np.arange(n)
mu, var = poisson.stats(mu)
poisson_dist = [poisson.pmf(x, mu) for x in x_vals]
print("x\t P(X=x)")
for key, values in enumerate(poisson_dist):
    print(f"{key} \t {values}")
print(f"mean is {mu} and variance is {var}")


plt.bar(x_vals, poisson_dist);


poisson_cdf = [poisson.cdf(x, mu) for x in x_vals]
plt.bar(x_vals, poisson_cdf);



