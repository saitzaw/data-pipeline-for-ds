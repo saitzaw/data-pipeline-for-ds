{
 "cells": [
  {
   "cell_type": "markdown",
   "id": "a20bac07-092b-419d-920f-e040719284d2",
   "metadata": {},
   "source": [
    "# Linear algebra"
   ]
  },
  {
   "cell_type": "code",
   "execution_count": 1,
   "id": "93914126-7ccc-4d4a-842d-8a361df1ebf1",
   "metadata": {},
   "outputs": [],
   "source": [
    "import numpy as np\n",
    "import matplotlib.pyplot as plt"
   ]
  },
  {
   "cell_type": "markdown",
   "id": "7fa8144e-12d8-4a18-9c17-4bb6c67b70f6",
   "metadata": {},
   "source": [
    "## Vector"
   ]
  },
  {
   "cell_type": "code",
   "execution_count": 8,
   "id": "65e4a32d-e544-41bf-a765-badd75939012",
   "metadata": {},
   "outputs": [
    {
     "data": {
      "text/plain": [
       "array([ 2.        ,  2.08080808,  2.16161616,  2.24242424,  2.32323232,\n",
       "        2.4040404 ,  2.48484848,  2.56565657,  2.64646465,  2.72727273,\n",
       "        2.80808081,  2.88888889,  2.96969697,  3.05050505,  3.13131313,\n",
       "        3.21212121,  3.29292929,  3.37373737,  3.45454545,  3.53535354,\n",
       "        3.61616162,  3.6969697 ,  3.77777778,  3.85858586,  3.93939394,\n",
       "        4.02020202,  4.1010101 ,  4.18181818,  4.26262626,  4.34343434,\n",
       "        4.42424242,  4.50505051,  4.58585859,  4.66666667,  4.74747475,\n",
       "        4.82828283,  4.90909091,  4.98989899,  5.07070707,  5.15151515,\n",
       "        5.23232323,  5.31313131,  5.39393939,  5.47474747,  5.55555556,\n",
       "        5.63636364,  5.71717172,  5.7979798 ,  5.87878788,  5.95959596,\n",
       "        6.04040404,  6.12121212,  6.2020202 ,  6.28282828,  6.36363636,\n",
       "        6.44444444,  6.52525253,  6.60606061,  6.68686869,  6.76767677,\n",
       "        6.84848485,  6.92929293,  7.01010101,  7.09090909,  7.17171717,\n",
       "        7.25252525,  7.33333333,  7.41414141,  7.49494949,  7.57575758,\n",
       "        7.65656566,  7.73737374,  7.81818182,  7.8989899 ,  7.97979798,\n",
       "        8.06060606,  8.14141414,  8.22222222,  8.3030303 ,  8.38383838,\n",
       "        8.46464646,  8.54545455,  8.62626263,  8.70707071,  8.78787879,\n",
       "        8.86868687,  8.94949495,  9.03030303,  9.11111111,  9.19191919,\n",
       "        9.27272727,  9.35353535,  9.43434343,  9.51515152,  9.5959596 ,\n",
       "        9.67676768,  9.75757576,  9.83838384,  9.91919192, 10.        ])"
      ]
     },
     "execution_count": 8,
     "metadata": {},
     "output_type": "execute_result"
    }
   ],
   "source": [
    "A = np.linspace(2, 10, 100)\n",
    "A"
   ]
  },
  {
   "cell_type": "code",
   "execution_count": 7,
   "id": "ffb25c8e-3589-4d1b-81de-2bee1afcb860",
   "metadata": {},
   "outputs": [
    {
     "data": {
      "text/plain": [
       "array([1, 3, 5, 7, 9])"
      ]
     },
     "execution_count": 7,
     "metadata": {},
     "output_type": "execute_result"
    }
   ],
   "source": [
    "B = np.arange(1, 10, 2)\n",
    "B"
   ]
  },
  {
   "cell_type": "markdown",
   "id": "faea0c86-6706-46d7-b524-741686dd6e43",
   "metadata": {},
   "source": [
    "## Vector notation\n",
    "#### 2D vector in ijk notation\n",
    "$$\\overrightarrow{A} = a_1\\hat{i} + b_1\\hat{j} $$\n",
    "\n",
    "#### 2D vector in column vector \n",
    "$$ \\overrightarrow{A} =\\begin{pmatrix}\n",
    "a_1\\\\\n",
    "b_1\\\\\n",
    "\\end{pmatrix}$$\n",
    "\n",
    "#### 3D vector in ijk notation\n",
    "$$\\overrightarrow{A} = a_1\\hat{i} + b_1\\hat{j} + c_1\\hat{k} $$\n",
    "\n",
    "#### 3D vector in column vector \n",
    "$$ \\overrightarrow{A} =\\begin{pmatrix}\n",
    "a_1\\\\\n",
    "b_1\\\\\n",
    "c_1\n",
    "\\end{pmatrix}$$"
   ]
  },
  {
   "cell_type": "code",
   "execution_count": 19,
   "id": "e0b77788-388d-45ee-9a22-2a9e8787ddbf",
   "metadata": {},
   "outputs": [
    {
     "name": "stdout",
     "output_type": "stream",
     "text": [
      "2d vector is [1 3] and 3d vector is [1 3 4]\n"
     ]
    }
   ],
   "source": [
    "# 2D \n",
    "V = np.array([1, 3])\n",
    "\n",
    "# 3D \n",
    "V3 = np.array([1, 3, 4])\n",
    "\n",
    "print(f\"2d vector is {V} and 3d vector is {V3}\")"
   ]
  },
  {
   "cell_type": "markdown",
   "id": "b259df97-a6d4-4b22-ad7d-213557ba16a4",
   "metadata": {
    "tags": []
   },
   "source": [
    "### Vector sum\n",
    "#### 2D vector\n",
    "$$\\overrightarrow{A} = a_1\\hat{i} + b_1\\hat{j} $$\n",
    "$$\\overrightarrow{B} = a_2\\hat{i} + b_2\\hat{j} $$\n",
    "$$  \\overrightarrow{A} + \\overrightarrow{B} = (a_1+a_2)\\hat{i} +\n",
    "(b_1+b_2)\\hat{j} $$\n",
    "#### 3D vector\n",
    "$$\\overrightarrow{A} = a_1\\hat{i} + b_1\\hat{j} + c_1\\hat{k} $$\n",
    "$$\\overrightarrow{B} = a_2\\hat{i} + b_2\\hat{j} + c_2\\hat{k} $$\n",
    "$$  \\overrightarrow{A} + \\overrightarrow{B} = (a_1+a_2)\\hat{i} +\n",
    "(b_1+b_2)\\hat{j} + (c_1+c_2)\\hat{k} $$\n"
   ]
  },
  {
   "cell_type": "code",
   "execution_count": 11,
   "id": "9cd2d468-77b4-41ac-8e4b-aede92c8e1ef",
   "metadata": {},
   "outputs": [
    {
     "name": "stdout",
     "output_type": "stream",
     "text": [
      "sum of A + B = [3 1 7]\n",
      "sum of B + A = [3 1 7]\n"
     ]
    }
   ],
   "source": [
    "A = np.array([1, 2, 4])\n",
    "B = np.array([2, -1, 3])\n",
    "\n",
    "# A+B \n",
    "print(f\"sum of A + B = {A + B}\")\n",
    "\n",
    "# B+A\n",
    "print(f\"sum of B + A = {B + A}\")"
   ]
  },
  {
   "cell_type": "markdown",
   "id": "c8ae8636-d3f0-4f3d-90d7-4fd6e0915819",
   "metadata": {},
   "source": [
    "## Vector substract\n",
    "#### 2D vector\n",
    "$$\\overrightarrow{A} = a_1\\hat{i} + b_1\\hat{j} $$\n",
    "$$\\overrightarrow{B} = a_2\\hat{i} + b_2\\hat{j} $$\n",
    "$$  \\overrightarrow{A} - \\overrightarrow{B} = (a_1-a_2)\\hat{i} +\n",
    "(b_1-b_2)\\hat{j} $$\n",
    "#### 3D vector\n",
    "$$\\overrightarrow{A} = a_1\\hat{i} + b_1\\hat{j} + c_1\\hat{k} $$\n",
    "$$\\overrightarrow{B} = a_2\\hat{i} + b_2\\hat{j} + c_2\\hat{k} $$\n",
    "$$  \\overrightarrow{A} - \\overrightarrow{B} = (a_1-a_2)\\hat{i} +\n",
    "(b_1-b_2)\\hat{j} + (c_1-c_2)\\hat{k} $$"
   ]
  },
  {
   "cell_type": "code",
   "execution_count": 21,
   "id": "467dc1cd-9b91-46a8-92ae-b0bb48787958",
   "metadata": {},
   "outputs": [
    {
     "name": "stdout",
     "output_type": "stream",
     "text": [
      "sum of A + B = [-1  3  1]\n",
      "sum of B + A = [ 1 -3 -1]\n"
     ]
    }
   ],
   "source": [
    "A = np.array([1, 2, 4])\n",
    "B = np.array([2, -1, 3])\n",
    "\n",
    "# A-B \n",
    "print(f\"sum of A + B = {A - B}\")\n",
    "\n",
    "# B-A\n",
    "print(f\"sum of B + A = {B - A}\")"
   ]
  },
  {
   "cell_type": "markdown",
   "id": "d91dec3a-6d94-403e-89f7-03bd6685978a",
   "metadata": {},
   "source": [
    "## Magnitude\n",
    "#### 2D \n",
    "$$||A|| = \\sqrt{a_1^{2} + b_1^{2}}$$\n",
    "\n",
    "#### 3D \n",
    "$$||A|| = \\sqrt{a_1^{2} + b_1^{2} + c_1^{2}} $$"
   ]
  },
  {
   "cell_type": "code",
   "execution_count": 14,
   "id": "acb13038-ad1d-4f02-9c04-2c84cb90e8c8",
   "metadata": {},
   "outputs": [
    {
     "data": {
      "text/plain": [
       "4.58257569495584"
      ]
     },
     "execution_count": 14,
     "metadata": {},
     "output_type": "execute_result"
    }
   ],
   "source": [
    "np.linalg.norm(A)"
   ]
  },
  {
   "cell_type": "markdown",
   "id": "90f2afaf-fa47-4d1b-b7de-82b9bd08e64d",
   "metadata": {},
   "source": [
    "## Unit vector\n",
    "\n",
    "$$\\hat{v} = \\frac{\\overrightarrow{v}}{||\\overrightarrow{v}||}$$\n",
    "\n",
    "note: unit vector has both magnitude and direction"
   ]
  },
  {
   "cell_type": "code",
   "execution_count": 17,
   "id": "f79104b9-9328-4ef9-bf04-d264331b8e33",
   "metadata": {},
   "outputs": [
    {
     "name": "stdout",
     "output_type": "stream",
     "text": [
      "unit vector of V is [ 0.26726124  0.80178373 -0.53452248]\n"
     ]
    }
   ],
   "source": [
    "V = np.array([1, 3, -2])\n",
    "unit_V = V / np.linalg.norm(V)\n",
    "print(F\"unit vector of V is {unit_V}\")"
   ]
  },
  {
   "cell_type": "markdown",
   "id": "9d362e2a-c974-43ad-9bc2-9c0965e203f7",
   "metadata": {},
   "source": [
    "### dot product\n",
    "### Vector sum\n",
    "#### 2D vector\n",
    "$$\\overrightarrow{A} = a_1\\hat{i} + a_2\\hat{j} $$\n",
    "$$\\overrightarrow{B} = b_1\\hat{i} + b_2\\hat{j} $$\n",
    "$$  \\overrightarrow{A} \\cdot \\overrightarrow{B} =  a_1 b_1 + a_2 b_2 $$\n",
    "#### 3D vector\n",
    "$$\\overrightarrow{A} = a_1\\hat{i} + a_2\\hat{j} + a_3\\hat{k} $$\n",
    "$$\\overrightarrow{B} = b_1\\hat{i} + b_2\\hat{j} + b_3\\hat{k} $$\n",
    "$$  \\overrightarrow{A} \\cdot \\overrightarrow{B} = a_1a_2 +\n",
    "b_1b_2+c_1c_2 $$"
   ]
  },
  {
   "cell_type": "code",
   "execution_count": 23,
   "id": "80b8d4a1-6fa7-4faa-b7b4-acad059eb854",
   "metadata": {},
   "outputs": [
    {
     "name": "stdout",
     "output_type": "stream",
     "text": [
      "sum of A . B = 12\n",
      "sum of B . A = 12\n"
     ]
    }
   ],
   "source": [
    "A = np.array([1, 2, 4])\n",
    "B = np.array([2, -1, 3])\n",
    "\n",
    "# A-B \n",
    "print(f\"sum of A . B = {np.dot(A,B)}\")\n",
    "\n",
    "# B-A\n",
    "print(f\"sum of B . A = {np.dot(B,A)}\")"
   ]
  },
  {
   "cell_type": "markdown",
   "id": "dd1ebe3c-911e-4b29-a4e0-7ad2be0102a0",
   "metadata": {},
   "source": [
    "### cross product\n",
    "\n",
    "#### 2D vector\n",
    "$$\\overrightarrow{A} = a_1\\hat{i} + b_1\\hat{j} $$\n",
    "$$\\overrightarrow{B} = a_2\\hat{i} + b_2\\hat{j} $$\n",
    "$$  \\overrightarrow{A} \\times \\overrightarrow{B} = \\begin{vmatrix}\n",
    "\\hat{i} & \\hat{j}\\\\\n",
    "a_1 & a_2  \\\\\n",
    "b_1 & b_2 \n",
    "\\end{vmatrix} $$\n",
    "\n",
    "#### 3D vector\n",
    "$$\\overrightarrow{A} = a_1\\hat{i} + b_1\\hat{j} + c_1\\hat{k} $$\n",
    "$$\\overrightarrow{B} = a_2\\hat{i} + b_2\\hat{j} + c_2\\hat{k} $$\n",
    "$$  \\overrightarrow{A} \\times \\overrightarrow{B} = \\begin{vmatrix}\n",
    "\\hat{i} & \\hat{j} & \\hat{k}\\\\\n",
    "a_1 & a_2 & a_3 \\\\\n",
    "b_1 & b_2 & b_3\n",
    "\\end{vmatrix} $$"
   ]
  },
  {
   "cell_type": "code",
   "execution_count": null,
   "id": "fb3bf7bd-1214-4c61-9f50-b26dc3f181f9",
   "metadata": {},
   "outputs": [],
   "source": []
  }
 ],
 "metadata": {
  "kernelspec": {
   "display_name": "Python 3 (ipykernel)",
   "language": "python",
   "name": "python3"
  },
  "language_info": {
   "codemirror_mode": {
    "name": "ipython",
    "version": 3
   },
   "file_extension": ".py",
   "mimetype": "text/x-python",
   "name": "python",
   "nbconvert_exporter": "python",
   "pygments_lexer": "ipython3",
   "version": "3.9.5"
  }
 },
 "nbformat": 4,
 "nbformat_minor": 5
}
