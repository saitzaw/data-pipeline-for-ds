{
 "cells": [
  {
   "cell_type": "code",
   "execution_count": 33,
   "id": "c5d01c05-6d96-4b75-a0f7-333b41a694ef",
   "metadata": {},
   "outputs": [],
   "source": [
    "import numpy as np\n",
    "import pandas as pd\n",
    "import seaborn as sns\n",
    "import matplotlib.pyplot as plt\n",
    "from scipy import linalg"
   ]
  },
  {
   "cell_type": "code",
   "execution_count": 22,
   "id": "f46c80c3-696a-4f91-9432-068335940c06",
   "metadata": {},
   "outputs": [],
   "source": [
    "student_data = {'student': ['Abraham', 'Bobby', 'Czer', 'Doe', 'Elyra'], \n",
    "                'Math': [90, 90, 60, 60, 30],\n",
    "                'Phy': [60, 90, 60, 60, 30],\n",
    "                'Art': [90, 30, 60, 90, 30]}\n",
    "df = pd.DataFrame(data=student_data)"
   ]
  },
  {
   "cell_type": "code",
   "execution_count": 23,
   "id": "2f519d08-de4b-40df-9319-a0bf2df67455",
   "metadata": {},
   "outputs": [
    {
     "data": {
      "text/html": [
       "<div>\n",
       "<style scoped>\n",
       "    .dataframe tbody tr th:only-of-type {\n",
       "        vertical-align: middle;\n",
       "    }\n",
       "\n",
       "    .dataframe tbody tr th {\n",
       "        vertical-align: top;\n",
       "    }\n",
       "\n",
       "    .dataframe thead th {\n",
       "        text-align: right;\n",
       "    }\n",
       "</style>\n",
       "<table border=\"1\" class=\"dataframe\">\n",
       "  <thead>\n",
       "    <tr style=\"text-align: right;\">\n",
       "      <th></th>\n",
       "      <th>student</th>\n",
       "      <th>Math</th>\n",
       "      <th>Phy</th>\n",
       "      <th>Art</th>\n",
       "    </tr>\n",
       "  </thead>\n",
       "  <tbody>\n",
       "    <tr>\n",
       "      <th>0</th>\n",
       "      <td>Abraham</td>\n",
       "      <td>90</td>\n",
       "      <td>60</td>\n",
       "      <td>90</td>\n",
       "    </tr>\n",
       "    <tr>\n",
       "      <th>1</th>\n",
       "      <td>Bobby</td>\n",
       "      <td>90</td>\n",
       "      <td>90</td>\n",
       "      <td>30</td>\n",
       "    </tr>\n",
       "    <tr>\n",
       "      <th>2</th>\n",
       "      <td>Czer</td>\n",
       "      <td>60</td>\n",
       "      <td>60</td>\n",
       "      <td>60</td>\n",
       "    </tr>\n",
       "    <tr>\n",
       "      <th>3</th>\n",
       "      <td>Doe</td>\n",
       "      <td>60</td>\n",
       "      <td>60</td>\n",
       "      <td>90</td>\n",
       "    </tr>\n",
       "    <tr>\n",
       "      <th>4</th>\n",
       "      <td>Elyra</td>\n",
       "      <td>30</td>\n",
       "      <td>30</td>\n",
       "      <td>30</td>\n",
       "    </tr>\n",
       "  </tbody>\n",
       "</table>\n",
       "</div>"
      ],
      "text/plain": [
       "   student  Math  Phy  Art\n",
       "0  Abraham    90   60   90\n",
       "1    Bobby    90   90   30\n",
       "2     Czer    60   60   60\n",
       "3      Doe    60   60   90\n",
       "4    Elyra    30   30   30"
      ]
     },
     "execution_count": 23,
     "metadata": {},
     "output_type": "execute_result"
    }
   ],
   "source": [
    "df"
   ]
  },
  {
   "cell_type": "code",
   "execution_count": 24,
   "id": "27541cc4-7fca-49c9-acd1-d90c82a953ad",
   "metadata": {},
   "outputs": [],
   "source": [
    "M = df[df.columns[1:]].values"
   ]
  },
  {
   "cell_type": "code",
   "execution_count": 25,
   "id": "3b66023c-8da1-41f7-a2fd-3b7635a8efbf",
   "metadata": {},
   "outputs": [
    {
     "name": "stdout",
     "output_type": "stream",
     "text": [
      "[[90 60 90]\n",
      " [90 90 30]\n",
      " [60 60 60]\n",
      " [60 60 90]\n",
      " [30 30 30]]\n"
     ]
    }
   ],
   "source": [
    "print(M)"
   ]
  },
  {
   "cell_type": "code",
   "execution_count": 26,
   "id": "f31bac0e-bb0b-4469-a9a9-7f463fd881a0",
   "metadata": {},
   "outputs": [],
   "source": [
    "bar_M = np.mean(M, axis=0)"
   ]
  },
  {
   "cell_type": "code",
   "execution_count": 27,
   "id": "4c834d1d-73e6-45f8-b0fa-a9786f408b41",
   "metadata": {},
   "outputs": [
    {
     "name": "stdout",
     "output_type": "stream",
     "text": [
      "[66. 60. 60.]\n"
     ]
    }
   ],
   "source": [
    "print(bar_M)"
   ]
  },
  {
   "cell_type": "code",
   "execution_count": 41,
   "id": "d796d292-558a-4d6e-aa57-0a663eac3be7",
   "metadata": {},
   "outputs": [],
   "source": [
    "coM = pd.DataFrame.cov(df)"
   ]
  },
  {
   "cell_type": "code",
   "execution_count": 42,
   "id": "ba51161b-e5d0-4e08-aacb-43493956b931",
   "metadata": {},
   "outputs": [
    {
     "name": "stdout",
     "output_type": "stream",
     "text": [
      "       Math    Phy    Art\n",
      "Math  630.0  450.0  225.0\n",
      "Phy   450.0  450.0    0.0\n",
      "Art   225.0    0.0  900.0\n"
     ]
    }
   ],
   "source": [
    "print(coM)"
   ]
  },
  {
   "cell_type": "code",
   "execution_count": 48,
   "id": "6637066d-f397-4616-8c62-72e20c0b30b4",
   "metadata": {},
   "outputs": [],
   "source": [
    "coM_ = coM.values"
   ]
  },
  {
   "cell_type": "code",
   "execution_count": 50,
   "id": "56dfabdd-967d-4088-af11-38fc400636fc",
   "metadata": {},
   "outputs": [],
   "source": [
    "eigenValue, eigenVector = linalg.eig(coM_)"
   ]
  },
  {
   "cell_type": "code",
   "execution_count": 53,
   "id": "20ea1703-e4e2-42ca-ad34-8d35040a5b6a",
   "metadata": {},
   "outputs": [
    {
     "data": {
      "text/plain": [
       "array([  56.02457535, 1137.5874413 ,  786.38798335])"
      ]
     },
     "execution_count": 53,
     "metadata": {},
     "output_type": "execute_result"
    }
   ],
   "source": [
    "eigenValue.real"
   ]
  },
  {
   "cell_type": "code",
   "execution_count": 52,
   "id": "926dd5e4-5c91-4229-8986-11555f93d96b",
   "metadata": {},
   "outputs": [
    {
     "data": {
      "text/plain": [
       "array([[ 0.6487899 , -0.65580225, -0.3859988 ],\n",
       "       [-0.74104991, -0.4291978 , -0.51636642],\n",
       "       [-0.17296443, -0.62105769,  0.7644414 ]])"
      ]
     },
     "execution_count": 52,
     "metadata": {},
     "output_type": "execute_result"
    }
   ],
   "source": [
    "eigenVector"
   ]
  },
  {
   "cell_type": "code",
   "execution_count": 57,
   "id": "dd8f7770-76ae-47d8-b67b-916a01395d08",
   "metadata": {},
   "outputs": [],
   "source": [
    "v1 = eigenVector[:, 1].reshape(3, 1)"
   ]
  },
  {
   "cell_type": "code",
   "execution_count": 58,
   "id": "8b61fee9-3c2e-4a74-b0f1-15ced67e95cf",
   "metadata": {},
   "outputs": [],
   "source": [
    "v2 = eigenVector[:, 2].reshape(3, 1)"
   ]
  },
  {
   "cell_type": "code",
   "execution_count": 61,
   "id": "31552eec-4234-4999-897e-a124771b32d8",
   "metadata": {},
   "outputs": [
    {
     "data": {
      "text/plain": [
       "array([[-0.3859988 ],\n",
       "       [-0.51636642],\n",
       "       [ 0.7644414 ]])"
      ]
     },
     "execution_count": 61,
     "metadata": {},
     "output_type": "execute_result"
    }
   ],
   "source": [
    "v2"
   ]
  },
  {
   "cell_type": "code",
   "execution_count": 62,
   "id": "15ec38eb-98bb-4d90-a671-3b3571001172",
   "metadata": {},
   "outputs": [],
   "source": [
    "W = eigenVector[:, 1:]"
   ]
  },
  {
   "cell_type": "code",
   "execution_count": 63,
   "id": "dedbd293-6a1c-4d9a-b034-4d59406b7c90",
   "metadata": {},
   "outputs": [
    {
     "data": {
      "text/plain": [
       "array([[-0.65580225, -0.3859988 ],\n",
       "       [-0.4291978 , -0.51636642],\n",
       "       [-0.62105769,  0.7644414 ]])"
      ]
     },
     "execution_count": 63,
     "metadata": {},
     "output_type": "execute_result"
    }
   ],
   "source": [
    "W"
   ]
  },
  {
   "cell_type": "code",
   "execution_count": null,
   "id": "fb73887b-99c2-4abf-adec-302645ae01c7",
   "metadata": {},
   "outputs": [],
   "source": []
  }
 ],
 "metadata": {
  "kernelspec": {
   "display_name": "Python 3 (ipykernel)",
   "language": "python",
   "name": "python3"
  },
  "language_info": {
   "codemirror_mode": {
    "name": "ipython",
    "version": 3
   },
   "file_extension": ".py",
   "mimetype": "text/x-python",
   "name": "python",
   "nbconvert_exporter": "python",
   "pygments_lexer": "ipython3",
   "version": "3.9.5"
  }
 },
 "nbformat": 4,
 "nbformat_minor": 5
}
