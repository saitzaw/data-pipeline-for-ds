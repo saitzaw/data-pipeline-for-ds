import numpy as np
import matplotlib.pyplot as plt
import seaborn as sns
from scipy.stats import binom
from IPython.display import Math, Latex
from IPython.core.display import Image
sns.set(color_codes=True)
sns.set(rc={'figure.figsize':(5,5)})


# genearte a random numbers
data_binom = binom.rvs(n=10, p=0.8, size=1000)


ax = sns.histplot(data_binom,
                  kde=True,
                  color='skyblue')
ax.set(xlabel='Binomial Distribution', ylabel='Frequency');



