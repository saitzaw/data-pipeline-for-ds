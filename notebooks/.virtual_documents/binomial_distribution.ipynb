import numpy as np
import matplotlib.pyplot as plt
import seaborn as sns
from scipy.stats import binom
from IPython.display import Math, display
sns.set(color_codes=True)
sns.set(rc={'figure.figsize': (5, 5)})


# genearte a random numbers
data_binom = binom.rvs(n=10, p=0.3, size=1000)


ax = sns.histplot(data_binom,
                  kde=True,
                  color='skyblue')
ax.set(xlabel='Binomial Distribution', ylabel='Frequency');


# simulation
"""
test on a coin tossed 10 times
getting a head is 0.3
"""
n = 10
p = 0.3
x_vals = np.arange(0, n+1)
mu, var = binom.stats(n, p)
binom_dist = [binom.pmf(x, n, p) for x in x_vals]

print("x\t P(X=x)")
for i in range(n+1):
    print(f"{x_vals[i]} \t {binom_dist[i]}")

# mean and variance 
print(f"mean is {mu} and variance is {var}")


plt.bar(x_vals, binom_dist);


binom_cdf = [binom.cdf(x, n, p) for x in x_vals]


plt.bar(x_vals, binom_cdf);


# probability of P(X < 4)
# probability of head turns at most 4 times
prob_less_4 = binom.cdf(4, n, p)
display(Math(r'P(X \leq 4) = {:.2f}'.format(prob_less_4)))


# probability of P(x>4)
# Probability of head turns at least 4 times
prob_greater_4 = 1 - prob_less_4
display(Math(r'P(X \geq 4 = {:.2f}'.format(prob_greater_4)))
