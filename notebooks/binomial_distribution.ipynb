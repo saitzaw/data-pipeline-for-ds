{
 "cells": [
  {
   "cell_type": "code",
   "execution_count": 1,
   "id": "7b2c9a51-1fbd-43dc-959b-23b5c7f4cd3e",
   "metadata": {},
   "outputs": [],
   "source": [
    "import numpy as np\n",
    "import matplotlib.pyplot as plt\n",
    "import seaborn as sns\n",
    "from scipy.stats import binom\n",
    "from IPython.display import Math, display\n",
    "sns.set(color_codes=True)\n",
    "sns.set(rc={'figure.figsize': (5, 5)})"
   ]
  },
  {
   "cell_type": "markdown",
   "id": "b578e2b5-017f-49f2-952c-9cd1d6c7446e",
   "metadata": {},
   "source": [
    "## Formula Bin(n, p)\n",
    "- q = 1 - p \n",
    "- n = number of trails\n",
    "- p = probability of success [in percent, fractional number or float]\n",
    "\n",
    "### Probability mass function\n",
    "$$ f(x, n, p) = P(X = x) = \\begin{pmatrix} n \\\\ x \\end{pmatrix} p^{x} q^{n-x}  $$\n",
    "\n",
    "- where\n",
    "$$ \\begin{pmatrix} n \\\\ x \\end{pmatrix} = \\frac{n!}{x!(n-x)}$$\n",
    "\n",
    "### Cumulative distribution function\n",
    "$$ F(x; n, p) = P( X \\leq x ) = \\sum_{i}^{x}  \\begin{pmatrix} n \\\\ i \\end{pmatrix} p^{i} q^{n-i}$$ "
   ]
  },
  {
   "cell_type": "code",
   "execution_count": 2,
   "id": "e214bc9f-a7b9-4680-a380-6b7637a98a62",
   "metadata": {},
   "outputs": [],
   "source": [
    "# genearte a random numbers\n",
    "data_binom = binom.rvs(n=10, p=0.3, size=1000)"
   ]
  },
  {
   "cell_type": "code",
   "execution_count": 3,
   "id": "cc9a9c28-c4da-41c6-a3b5-c559d681b9e0",
   "metadata": {},
   "outputs": [
    {
     "data": {
      "image/png": "[encoded data removed]",
      "text/plain": [
       "<Figure size 360x360 with 1 Axes>"
      ]
     },
     "metadata": {},
     "output_type": "display_data"
    }
   ],
   "source": [
    "ax = sns.histplot(data_binom,\n",
    "                  kde=True,\n",
    "                  color='skyblue')\n",
    "ax.set(xlabel='Binomial Distribution', ylabel='Frequency');"
   ]
  },
  {
   "cell_type": "code",
   "execution_count": 4,
   "id": "fe244b3e-e903-4bbf-8714-8530a7d617b9",
   "metadata": {},
   "outputs": [
    {
     "name": "stdout",
     "output_type": "stream",
     "text": [
      "x\t P(X=x)\n",
      "0 \t 0.028247524899999984\n",
      "1 \t 0.12106082099999989\n",
      "2 \t 0.2334744405000001\n",
      "3 \t 0.26682793199999977\n",
      "4 \t 0.2001209489999999\n",
      "5 \t 0.10291934519999989\n",
      "6 \t 0.036756908999999956\n",
      "7 \t 0.009001691999999992\n",
      "8 \t 0.0014467004999999982\n",
      "9 \t 0.00013778099999999988\n",
      "10 \t 5.9048999999999975e-06\n",
      "mean is 3.0 and variance is 2.0999999999999996\n"
     ]
    }
   ],
   "source": [
    "# simulation\n",
    "\"\"\"\n",
    "test on a coin tossed 10 times\n",
    "getting a head is 0.3\n",
    "\"\"\"\n",
    "n = 10\n",
    "p = 0.3\n",
    "x_vals = np.arange(0, n+1)\n",
    "mu, var = binom.stats(n, p)\n",
    "binom_dist = [binom.pmf(x, n, p) for x in x_vals]\n",
    "\n",
    "print(\"x\\t P(X=x)\")\n",
    "for i in range(n+1):\n",
    "    print(f\"{x_vals[i]} \\t {binom_dist[i]}\")\n",
    "\n",
    "# mean and variance \n",
    "print(f\"mean is {mu} and variance is {var}\")"
   ]
  },
  {
   "cell_type": "code",
   "execution_count": 5,
   "id": "5e0cbbaa-7de7-49ec-bd69-e5eff65b6fd5",
   "metadata": {},
   "outputs": [
    {
     "data": {
      "image/png": "[encoded data removed]",
      "text/plain": [
       "<Figure size 360x360 with 1 Axes>"
      ]
     },
     "metadata": {},
     "output_type": "display_data"
    }
   ],
   "source": [
    "plt.bar(x_vals, binom_dist);"
   ]
  },
  {
   "cell_type": "code",
   "execution_count": 6,
   "id": "fb448601-ba0b-4d54-974b-1754c43b4d75",
   "metadata": {},
   "outputs": [],
   "source": [
    "binom_cdf = [binom.cdf(x, n, p) for x in x_vals]"
   ]
  },
  {
   "cell_type": "code",
   "execution_count": 7,
   "id": "5b2d86e0-3bdb-4184-9786-f7bdac0c2e8b",
   "metadata": {},
   "outputs": [
    {
     "data": {
      "image/png": "[encoded data removed]",
      "text/plain": [
       "<Figure size 360x360 with 1 Axes>"
      ]
     },
     "metadata": {},
     "output_type": "display_data"
    }
   ],
   "source": [
    "plt.bar(x_vals, binom_cdf);"
   ]
  },
  {
   "cell_type": "code",
   "execution_count": 8,
   "id": "155629a3-b226-437d-8ad2-ea5a33a35683",
   "metadata": {},
   "outputs": [
    {
     "data": {
      "text/latex": [
       "$\\displaystyle P(X \\leq 4) = 0.85$"
      ],
      "text/plain": [
       "<IPython.core.display.Math object>"
      ]
     },
     "metadata": {},
     "output_type": "display_data"
    }
   ],
   "source": [
    "# probability of P(X < 4)\n",
    "# probability of head turns at most 4 times\n",
    "prob_less_4 = binom.cdf(4, n, p)\n",
    "display(Math(r'P(X \\leq 4) = {:.2f}'.format(prob_less_4)))"
   ]
  },
  {
   "cell_type": "code",
   "execution_count": 9,
   "id": "061ce64a-d28b-445a-9622-11eaeeb26c0d",
   "metadata": {},
   "outputs": [
    {
     "data": {
      "text/latex": [
       "$\\displaystyle P(X \\geq 4 = 0.15$"
      ],
      "text/plain": [
       "<IPython.core.display.Math object>"
      ]
     },
     "metadata": {},
     "output_type": "display_data"
    }
   ],
   "source": [
    "# probability of P(x>4)\n",
    "# Probability of head turns at least 4 times\n",
    "prob_greater_4 = 1 - prob_less_4\n",
    "display(Math(r'P(X \\geq 4 = {:.2f}'.format(prob_greater_4)))"
   ]
  }
 ],
 "metadata": {
  "kernelspec": {
   "display_name": "Python 3 (ipykernel)",
   "language": "python",
   "name": "python3"
  },
  "language_info": {
   "codemirror_mode": {
    "name": "ipython",
    "version": 3
   },
   "file_extension": ".py",
   "mimetype": "text/x-python",
   "name": "python",
   "nbconvert_exporter": "python",
   "pygments_lexer": "ipython3",
   "version": "3.9.5"
  }
 },
 "nbformat": 4,
 "nbformat_minor": 5
}
