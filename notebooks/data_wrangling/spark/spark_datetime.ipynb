{
 "cells": [
  {
   "cell_type": "code",
   "execution_count": 1,
   "id": "846292b5-b9df-4ca1-a494-9d746c9ceb94",
   "metadata": {},
   "outputs": [],
   "source": [
    "import os\n",
    "import pyspark\n",
    "import findspark\n",
    "findspark.init()\n",
    "from pyspark.sql import SparkSession\n",
    "from pyspark.sql.types import (StructType, StructField, StringType, IntegerType)\n",
    "from pyspark.sql.functions import (date_add,\n",
    "                               date_sub,\n",
    "                               add_months,\n",
    "                               dayofmonth,\n",
    "                               last_day,\n",
    "                               datediff,\n",
    "                               current_date,\n",
    "                               date_format,\n",
    "                               months_between,\n",
    "                               year,\n",
    "                               month,\n",
    "                               round)"
   ]
  },
  {
   "cell_type": "code",
   "execution_count": 3,
   "id": "046e5dd1-79aa-4cef-948f-30519e48ad53",
   "metadata": {},
   "outputs": [],
   "source": [
    "os.environ[\"JAVA_HOME\"] = \"/usr/lib/jvm/java-8-openjdk-amd64\"\n",
    "os.environ[\"SPARK_HOME\"] = \"/opt/spark\"\n",
    "spark_loca = \"local[*]\"\n",
    "spark = SparkSession.builder.master(spark_loca).getOrCreate()"
   ]
  },
  {
   "cell_type": "code",
   "execution_count": 4,
   "id": "85054449-d8b3-4916-8e62-be49a49ec128",
   "metadata": {},
   "outputs": [],
   "source": [
    "# Sample emp data\n",
    "# this cell will be longer, as add the dummy data but almost similar to real data\n",
    "emp = [(\"MR-001\", \"Alice\", \"Market Research\", 7500, \"F\", \"2017-02-10 9:30:00\"),\n",
    "       (\"MR-002\", \"Bob\", \"Market Research\", 7500, \"M\", \"2018-04-10 9:30:00\"),\n",
    "       (\"MR-003\", \"John\", \"Market Research\", 9500, \"M\", \"2019-01-01 10:30:00\"),\n",
    "       (\"M-001\", \"Jonathan\", \"Marketing\", 4500, \"O\", \"2017-04-10 9:30:00\"),\n",
    "       (\"M-002\", \"Ethan\", \"Marketing\", 6000, \"M\", \"2017-04-10 9:30:00\"),\n",
    "       (\"M-003\", \"Elyra\", \"Marketing\", 7500, \"O\", \"2017-04-10 9:30:00\"),\n",
    "       (\"M-004\", \"Sophia\", \"Marketing\", 8000, \"F\", \"2017-04-10 9:30:00\"),\n",
    "       (\"M-005\", \"Mia\", \"Marketing\", 5000, \"F\", \"2017-04-10 9:30:00\"),\n",
    "       (\"M-006\", \"Ava\", \"Marketing\", 4500, \"F\", \"2018-01-01 9:15:00\"),\n",
    "       (\"M-007\", \"Olivia\", \"Marketing\", 6500, \"F\", \"2019-02-10 10:30:00\"),\n",
    "       (\"M-008\", \"Luca\", \"Marketing\", 3000, \"M\", \"2019-05-01 9:15:00\"),\n",
    "       (\"HR-001\", \"James\", \"Human Resource\", 4500, \"M\", \"2018-10-01 9:30:00\"),\n",
    "       (\"HR-002\", \"Robert\", \"Human Resource\", 5500, \"M\", \"2018-10-01 9:30:00\"),\n",
    "       (\"HR-003\", \"Joseph\", \"Human Resuorce\", 6000, \"M\", \"2019-01-01 10:30:00\"),\n",
    "       (\"HR-004\", \"Mark\", \"Human Resource\", 3500, \"O\", \"2019-02-01 9:30:00\"),\n",
    "       (\"HR-005\", \"Chloe\", \"Human Resource\", 9000, \"F\", \"2019-02-02 9:30:00\"),\n",
    "       (\"HR-006\", \"Hazel\", \"Human Resource\", 5500,  \"F\", \"2019-05-01 9:30:00\"),\n",
    "       (\"HR-007\", \"Zoey\", \"Human Resource\", 4500, \"F\", \"2019-06-01 9:30:00\"),\n",
    "       (\"S-001\", \"Grace\", \"Sale\", 8000, \"F\", \"2017-04-10 9:30:00\"),\n",
    "       (\"S-002\", \"Avery\", \"Sale\", 6000, \"F\", \"2017-04-10 9:30:00\"),\n",
    "       (\"S-003\", \"Charles\", \"Sale\", 5000, \"M\", \"2017-04-10 9:30:00\"),\n",
    "       (\"S-004\", \"Andrew\", \"Sale\", 4500, \"M\", \"2017-04-10 9:30:00\"),\n",
    "       (\"S-005\", \"Paul\", \"Sale\", 9500, \"O\", \"2017-04-10 9:30:00\"),\n",
    "       (\"S-006\", \"Joshua\", \"Sale\", 4500, \"M\", \"2017-04-10 9:30:00\"),\n",
    "       (\"S-007\", \"Steven\", \"Sale\", 5000, \"M\", \"2017-04-10 9:30:00\"),\n",
    "       (\"S-008\", \"Bella\", \"Sale\", 4500, \"F\", \"2017-04-10 9:30:00\"),\n",
    "       (\"S-009\", \"Elena\", \"Sale\", 5000, \"X\", \"2018-02-10 9:30:00\"),\n",
    "       (\"S-010\", \"Skylar\", \"Sale\", 3500, \"F\", \"2018-02-04 9:30:00\"),\n",
    "       (\"S-011\", \"Maya\", \"Sale\", 3500, \"F\", \"2018-05-05 9:30:00\"),\n",
    "       (\"S-012\", \"Sophie\", \"Sale\", 3500, \"X\", \"2018-05-05 9:30:00\"),\n",
    "       (\"S-013\", \"Sara\", \"Sale\", 8000, \"F\", \"2018-06-01 9:30:00\"),\n",
    "       (\"S-014\", \"Ada\", \"Sale\", 5000, \"X\", \"2018-06-01 9:30:00\"),\n",
    "       (\"S-015\", \"Peter\", \"Sale\", 3500, \"M\", \"2018-10-01 9:30:00\"),\n",
    "       (\"S-016\", \"Carl\", \"Sale\", 3500, \"M\", \"2018-10-01 9:30:00\"),\n",
    "       (\"S-017\", \"Terry\", \"Sale\", 3500, \"X\", \"2018-10-01 9:30:00\"),\n",
    "       (\"S-018\", \"Ethan\", \"Sale\", 3500, \"X\", \"2018-11-01 9:30:00\"),\n",
    "       (\"S-019\", \"Ethan\", \"Sale\", 3500, \"M\", \"2018-11-01 9:30:00\"),\n",
    "       (\"S-020\", \"Lola\", \"Sale\", 6500, \"F\", \"2018-11-01 9:30:00\"),\n",
    "       (\"CS-001\", \"Olive\", \"Customer Service\", 6000, \"X\", \"2018-01-01 9:30:00\"),\n",
    "       (\"CS-002\", \"Larry\", \"Customer Service\", 6000, \"X\", \"2018-01-01 9:30:00\"),\n",
    "       (\"CS-003\", \"Jeffrey\", \"Customer Service\", 9000, \"X\", \"2018-01-01 10:30:00\"),\n",
    "       (\"CS-004\", \"Alani\", \"Customer Service\", 4500, \"X\", \"2018-02-01 9:30:00\"),\n",
    "       (\"F-001\", \"Frank\", \"Finance and Accounting\", 9000, \"M\", \"2017-04-10 10:30:00\"),\n",
    "       (\"F-002\", \"Peter\", \"Finance and Accounting\", 11500, \"M\", \"2017-04-10 10:30:00\"),\n",
    "       (\"F-003\", \"Nathan\", \"Finance and Accounting\", 8500, \"M\", \"2017-08-10 10:30:00\"),\n",
    "       (\"F-004\", \"Walter\", \"Finace and Accounting\", 9000, \"M\", \"2018-10-01 10:30:00\"),\n",
    "       (\"IT-001\", \"Roger\", \"IT\", 4500, \"M\", \"2018-12-01 9:30:00\"),\n",
    "       (\"IT-002\", \"Philip\", \"IT\", 4500, \"M\", \"2018-12-01 9:20:00\"),\n",
    "       (\"SEC-001\", \"Gabriel\", \"Security\", 8000, \"M\", \"2017-04-10 10:30:00\"),\n",
    "       (\"SEC-002\", \"Bruce\", \"Security\", 6500, \"M\", \"2017-04-10 10:30:00\"),\n",
    "       (\"SEC-003\", \"Arthur\", \"Security\", 4500, \"M\", \"2018-01-01 9:30:00\"),\n",
    "       (\"SEC-004\", \"Noah\", \"Security\", 4500, \"M\", \"2018-01-01 9:30:00\"),\n",
    "       (\"SEC-005\", \"Jerry\", \"Security\", 3500, \"M\", \"2018-01-01 9:30:00\"),\n",
    "       (\"SEC-006\", \"Adam\", \"Security\", 3500, \"M\", \"2018-05-01 9:30:00\")\n",
    "      ]"
   ]
  },
  {
   "cell_type": "code",
   "execution_count": 5,
   "id": "0e1ada5c-569e-4d92-a01f-3da53cd812c9",
   "metadata": {},
   "outputs": [],
   "source": [
    "# Define the Spark datatye here\n",
    "labels = [\n",
    "     ('id', StringType()),\n",
    "     ('name', StringType()),\n",
    "     ('dept', StringType()),\n",
    "     ('salary', IntegerType()),\n",
    "     ('Sex', StringType()),\n",
    "     ('hired_date', StringType())\n",
    "]\n",
    "schema = StructType([StructField(x[0], x[1], True) for x in labels])"
   ]
  },
  {
   "cell_type": "code",
   "execution_count": 6,
   "id": "5f37933b-7d81-45c9-ac47-e90458a5408e",
   "metadata": {},
   "outputs": [],
   "source": [
    "# create dataframe here\n",
    "emp_df = spark.createDataFrame(data=emp, schema=schema)"
   ]
  },
  {
   "cell_type": "code",
   "execution_count": 7,
   "id": "3df7f094-7e31-4c84-aa03-1eabf20db66e",
   "metadata": {},
   "outputs": [
    {
     "name": "stderr",
     "output_type": "stream",
     "text": [
      "[Stage 0:>                                                          (0 + 1) / 1]\r"
     ]
    },
    {
     "name": "stdout",
     "output_type": "stream",
     "text": [
      "+------+--------+---------------+------+---+-------------------+\n",
      "|id    |name    |dept           |salary|Sex|hired_date         |\n",
      "+------+--------+---------------+------+---+-------------------+\n",
      "|MR-001|Alice   |Market Research|7500  |F  |2017-02-10 9:30:00 |\n",
      "|MR-002|Bob     |Market Research|7500  |M  |2018-04-10 9:30:00 |\n",
      "|MR-003|John    |Market Research|9500  |M  |2019-01-01 10:30:00|\n",
      "|M-001 |Jonathan|Marketing      |4500  |O  |2017-04-10 9:30:00 |\n",
      "|M-002 |Ethan   |Marketing      |6000  |M  |2017-04-10 9:30:00 |\n",
      "|M-003 |Elyra   |Marketing      |7500  |O  |2017-04-10 9:30:00 |\n",
      "|M-004 |Sophia  |Marketing      |8000  |F  |2017-04-10 9:30:00 |\n",
      "|M-005 |Mia     |Marketing      |5000  |F  |2017-04-10 9:30:00 |\n",
      "|M-006 |Ava     |Marketing      |4500  |F  |2018-01-01 9:15:00 |\n",
      "|M-007 |Olivia  |Marketing      |6500  |F  |2019-02-10 10:30:00|\n",
      "|M-008 |Luca    |Marketing      |3000  |M  |2019-05-01 9:15:00 |\n",
      "|HR-001|James   |Human Resource |4500  |M  |2018-10-01 9:30:00 |\n",
      "|HR-002|Robert  |Human Resource |5500  |M  |2018-10-01 9:30:00 |\n",
      "|HR-003|Joseph  |Human Resuorce |6000  |M  |2019-01-01 10:30:00|\n",
      "|HR-004|Mark    |Human Resource |3500  |O  |2019-02-01 9:30:00 |\n",
      "|HR-005|Chloe   |Human Resource |9000  |F  |2019-02-02 9:30:00 |\n",
      "|HR-006|Hazel   |Human Resource |5500  |F  |2019-05-01 9:30:00 |\n",
      "|HR-007|Zoey    |Human Resource |4500  |F  |2019-06-01 9:30:00 |\n",
      "|S-001 |Grace   |Sale           |8000  |F  |2017-04-10 9:30:00 |\n",
      "|S-002 |Avery   |Sale           |6000  |F  |2017-04-10 9:30:00 |\n",
      "+------+--------+---------------+------+---+-------------------+\n",
      "only showing top 20 rows\n",
      "\n"
     ]
    },
    {
     "name": "stderr",
     "output_type": "stream",
     "text": [
      "                                                                                \r"
     ]
    }
   ],
   "source": [
    "emp_df.show(truncate=False)"
   ]
  },
  {
   "cell_type": "code",
   "execution_count": 8,
   "id": "e94fa2bd-708f-4d37-a78b-f839a7d84d4f",
   "metadata": {},
   "outputs": [],
   "source": [
    "# last day of the months\n",
    "lday_df = emp_df.select(\"hired_date\").withColumn(\"lastdayofmonth\", last_day(\"hired_date\"))"
   ]
  },
  {
   "cell_type": "code",
   "execution_count": 9,
   "id": "058b8b67-be70-44fd-8774-0ee0e3153ab4",
   "metadata": {},
   "outputs": [
    {
     "name": "stdout",
     "output_type": "stream",
     "text": [
      "+-------------------+--------------+\n",
      "|hired_date         |lastdayofmonth|\n",
      "+-------------------+--------------+\n",
      "|2017-02-10 9:30:00 |2017-02-28    |\n",
      "|2018-04-10 9:30:00 |2018-04-30    |\n",
      "|2019-01-01 10:30:00|2019-01-31    |\n",
      "|2017-04-10 9:30:00 |2017-04-30    |\n",
      "|2017-04-10 9:30:00 |2017-04-30    |\n",
      "|2017-04-10 9:30:00 |2017-04-30    |\n",
      "|2017-04-10 9:30:00 |2017-04-30    |\n",
      "|2017-04-10 9:30:00 |2017-04-30    |\n",
      "|2018-01-01 9:15:00 |2018-01-31    |\n",
      "|2019-02-10 10:30:00|2019-02-28    |\n",
      "|2019-05-01 9:15:00 |2019-05-31    |\n",
      "|2018-10-01 9:30:00 |2018-10-31    |\n",
      "|2018-10-01 9:30:00 |2018-10-31    |\n",
      "|2019-01-01 10:30:00|2019-01-31    |\n",
      "|2019-02-01 9:30:00 |2019-02-28    |\n",
      "|2019-02-02 9:30:00 |2019-02-28    |\n",
      "|2019-05-01 9:30:00 |2019-05-31    |\n",
      "|2019-06-01 9:30:00 |2019-06-30    |\n",
      "|2017-04-10 9:30:00 |2017-04-30    |\n",
      "|2017-04-10 9:30:00 |2017-04-30    |\n",
      "+-------------------+--------------+\n",
      "only showing top 20 rows\n",
      "\n"
     ]
    }
   ],
   "source": [
    "lday_df.show(truncate=False)"
   ]
  },
  {
   "cell_type": "code",
   "execution_count": 10,
   "id": "ac16670a-0df8-47d6-a3fe-be46e6731d9b",
   "metadata": {},
   "outputs": [],
   "source": [
    "# remove the timestamp in dataframe\n",
    "remove_timestamp = emp_df.select(\"hired_date\").withColumn(\"date\", last_day(\"hired_date\"))"
   ]
  },
  {
   "cell_type": "code",
   "execution_count": 11,
   "id": "f0121486-491c-4a87-970f-5fad569e33e2",
   "metadata": {},
   "outputs": [
    {
     "name": "stdout",
     "output_type": "stream",
     "text": [
      "+-------------------+----------+\n",
      "|hired_date         |date      |\n",
      "+-------------------+----------+\n",
      "|2017-02-10 9:30:00 |2017-02-28|\n",
      "|2018-04-10 9:30:00 |2018-04-30|\n",
      "|2019-01-01 10:30:00|2019-01-31|\n",
      "|2017-04-10 9:30:00 |2017-04-30|\n",
      "|2017-04-10 9:30:00 |2017-04-30|\n",
      "|2017-04-10 9:30:00 |2017-04-30|\n",
      "|2017-04-10 9:30:00 |2017-04-30|\n",
      "|2017-04-10 9:30:00 |2017-04-30|\n",
      "|2018-01-01 9:15:00 |2018-01-31|\n",
      "|2019-02-10 10:30:00|2019-02-28|\n",
      "|2019-05-01 9:15:00 |2019-05-31|\n",
      "|2018-10-01 9:30:00 |2018-10-31|\n",
      "|2018-10-01 9:30:00 |2018-10-31|\n",
      "|2019-01-01 10:30:00|2019-01-31|\n",
      "|2019-02-01 9:30:00 |2019-02-28|\n",
      "|2019-02-02 9:30:00 |2019-02-28|\n",
      "|2019-05-01 9:30:00 |2019-05-31|\n",
      "|2019-06-01 9:30:00 |2019-06-30|\n",
      "|2017-04-10 9:30:00 |2017-04-30|\n",
      "|2017-04-10 9:30:00 |2017-04-30|\n",
      "+-------------------+----------+\n",
      "only showing top 20 rows\n",
      "\n"
     ]
    }
   ],
   "source": [
    "remove_timestamp.show(truncate=False)"
   ]
  },
  {
   "cell_type": "code",
   "execution_count": 12,
   "id": "88723b40-82ba-41b4-b56c-f989bb75d63a",
   "metadata": {},
   "outputs": [
    {
     "name": "stdout",
     "output_type": "stream",
     "text": [
      "+------+--------+---------------+-------------------+------------+-----------------+-------------------+\n",
      "|    id|    name|           dept|         hired_date|current_date|work_with_us(day)|work_with_us(month)|\n",
      "+------+--------+---------------+-------------------+------------+-----------------+-------------------+\n",
      "|MR-001|   Alice|Market Research| 2017-02-10 9:30:00|  2021-10-19|             1712|              56.28|\n",
      "|MR-002|     Bob|Market Research| 2018-04-10 9:30:00|  2021-10-19|             1288|              42.28|\n",
      "|MR-003|    John|Market Research|2019-01-01 10:30:00|  2021-10-19|             1022|              33.57|\n",
      "| M-001|Jonathan|      Marketing| 2017-04-10 9:30:00|  2021-10-19|             1653|              54.28|\n",
      "| M-002|   Ethan|      Marketing| 2017-04-10 9:30:00|  2021-10-19|             1653|              54.28|\n",
      "| M-003|   Elyra|      Marketing| 2017-04-10 9:30:00|  2021-10-19|             1653|              54.28|\n",
      "| M-004|  Sophia|      Marketing| 2017-04-10 9:30:00|  2021-10-19|             1653|              54.28|\n",
      "| M-005|     Mia|      Marketing| 2017-04-10 9:30:00|  2021-10-19|             1653|              54.28|\n",
      "| M-006|     Ava|      Marketing| 2018-01-01 9:15:00|  2021-10-19|             1387|              45.57|\n",
      "| M-007|  Olivia|      Marketing|2019-02-10 10:30:00|  2021-10-19|              982|              32.28|\n",
      "| M-008|    Luca|      Marketing| 2019-05-01 9:15:00|  2021-10-19|              902|              29.57|\n",
      "|HR-001|   James| Human Resource| 2018-10-01 9:30:00|  2021-10-19|             1114|              36.57|\n",
      "|HR-002|  Robert| Human Resource| 2018-10-01 9:30:00|  2021-10-19|             1114|              36.57|\n",
      "|HR-003|  Joseph| Human Resuorce|2019-01-01 10:30:00|  2021-10-19|             1022|              33.57|\n",
      "|HR-004|    Mark| Human Resource| 2019-02-01 9:30:00|  2021-10-19|              991|              32.57|\n",
      "|HR-005|   Chloe| Human Resource| 2019-02-02 9:30:00|  2021-10-19|              990|              32.54|\n",
      "|HR-006|   Hazel| Human Resource| 2019-05-01 9:30:00|  2021-10-19|              902|              29.57|\n",
      "|HR-007|    Zoey| Human Resource| 2019-06-01 9:30:00|  2021-10-19|              871|              28.57|\n",
      "| S-001|   Grace|           Sale| 2017-04-10 9:30:00|  2021-10-19|             1653|              54.28|\n",
      "| S-002|   Avery|           Sale| 2017-04-10 9:30:00|  2021-10-19|             1653|              54.28|\n",
      "+------+--------+---------------+-------------------+------------+-----------------+-------------------+\n",
      "only showing top 20 rows\n",
      "\n"
     ]
    }
   ],
   "source": [
    "# calcualate the working year in current work\n",
    "# Equation -> today - hired_date\n",
    "new_df = (emp_df\n",
    "    .select(\"id\", \"name\", \"dept\",\"hired_date\")\n",
    "    .withColumn(\"current_date\", current_date())\n",
    "    .withColumn(\"work_with_us(day)\", datediff(\"current_date\", \"hired_date\"))\n",
    "    .withColumn(\"work_with_us(month)\", round(months_between(\"current_date\", \"hired_date\"),2)))\n",
    "new_df.show()"
   ]
  },
  {
   "cell_type": "code",
   "execution_count": 13,
   "id": "cf977a50-5a65-427a-84c6-c647c7fd3c30",
   "metadata": {},
   "outputs": [],
   "source": [
    "# substract 10 day from the hired_date from Sale group\n",
    "sale_df = (emp_df.filter(emp_df['dept']=='Sale')\n",
    "           .select(\"id\", \"name\", \"dept\", \"hired_date\")\n",
    "           .withColumn(\"cheat_ten_days\", date_sub(\"hired_date\", 10)))"
   ]
  },
  {
   "cell_type": "code",
   "execution_count": 14,
   "id": "5af155f6-0bd4-4ac1-b4eb-7a36a95a1146",
   "metadata": {},
   "outputs": [
    {
     "name": "stdout",
     "output_type": "stream",
     "text": [
      "+-----+-------+----+------------------+--------------+\n",
      "|   id|   name|dept|        hired_date|cheat_ten_days|\n",
      "+-----+-------+----+------------------+--------------+\n",
      "|S-001|  Grace|Sale|2017-04-10 9:30:00|    2017-03-31|\n",
      "|S-002|  Avery|Sale|2017-04-10 9:30:00|    2017-03-31|\n",
      "|S-003|Charles|Sale|2017-04-10 9:30:00|    2017-03-31|\n",
      "|S-004| Andrew|Sale|2017-04-10 9:30:00|    2017-03-31|\n",
      "|S-005|   Paul|Sale|2017-04-10 9:30:00|    2017-03-31|\n",
      "|S-006| Joshua|Sale|2017-04-10 9:30:00|    2017-03-31|\n",
      "|S-007| Steven|Sale|2017-04-10 9:30:00|    2017-03-31|\n",
      "|S-008|  Bella|Sale|2017-04-10 9:30:00|    2017-03-31|\n",
      "|S-009|  Elena|Sale|2018-02-10 9:30:00|    2018-01-31|\n",
      "|S-010| Skylar|Sale|2018-02-04 9:30:00|    2018-01-25|\n",
      "|S-011|   Maya|Sale|2018-05-05 9:30:00|    2018-04-25|\n",
      "|S-012| Sophie|Sale|2018-05-05 9:30:00|    2018-04-25|\n",
      "|S-013|   Sara|Sale|2018-06-01 9:30:00|    2018-05-22|\n",
      "|S-014|    Ada|Sale|2018-06-01 9:30:00|    2018-05-22|\n",
      "|S-015|  Peter|Sale|2018-10-01 9:30:00|    2018-09-21|\n",
      "|S-016|   Carl|Sale|2018-10-01 9:30:00|    2018-09-21|\n",
      "|S-017|  Terry|Sale|2018-10-01 9:30:00|    2018-09-21|\n",
      "|S-018|  Ethan|Sale|2018-11-01 9:30:00|    2018-10-22|\n",
      "|S-019|  Ethan|Sale|2018-11-01 9:30:00|    2018-10-22|\n",
      "|S-020|   Lola|Sale|2018-11-01 9:30:00|    2018-10-22|\n",
      "+-----+-------+----+------------------+--------------+\n",
      "\n"
     ]
    }
   ],
   "source": [
    "sale_df.show(truncate=True)"
   ]
  },
  {
   "cell_type": "code",
   "execution_count": 15,
   "id": "d646f1a3-8751-424b-8aee-5a71f0a15ac8",
   "metadata": {},
   "outputs": [],
   "source": [
    "# add the 5 day to the hired date from HR\n",
    "hr_df = (emp_df.filter(emp_df['dept']=='Human Resource')\n",
    "           .select(\"id\", \"name\", \"dept\", \"hired_date\")\n",
    "           .withColumn(\"cheat_five_days\", date_add(\"hired_date\", 5)))"
   ]
  },
  {
   "cell_type": "code",
   "execution_count": 16,
   "id": "a6f8ac50-1b7c-49e4-bccd-03b746604e18",
   "metadata": {},
   "outputs": [
    {
     "name": "stdout",
     "output_type": "stream",
     "text": [
      "+------+------+--------------+------------------+---------------+\n",
      "|    id|  name|          dept|        hired_date|cheat_five_days|\n",
      "+------+------+--------------+------------------+---------------+\n",
      "|HR-001| James|Human Resource|2018-10-01 9:30:00|     2018-10-06|\n",
      "|HR-002|Robert|Human Resource|2018-10-01 9:30:00|     2018-10-06|\n",
      "|HR-004|  Mark|Human Resource|2019-02-01 9:30:00|     2019-02-06|\n",
      "|HR-005| Chloe|Human Resource|2019-02-02 9:30:00|     2019-02-07|\n",
      "|HR-006| Hazel|Human Resource|2019-05-01 9:30:00|     2019-05-06|\n",
      "|HR-007|  Zoey|Human Resource|2019-06-01 9:30:00|     2019-06-06|\n",
      "+------+------+--------------+------------------+---------------+\n",
      "\n"
     ]
    }
   ],
   "source": [
    "hr_df.show()"
   ]
  },
  {
   "cell_type": "code",
   "execution_count": 17,
   "id": "74c0cfdd-ffff-4008-9be1-a53f1d36d183",
   "metadata": {},
   "outputs": [
    {
     "name": "stdout",
     "output_type": "stream",
     "text": [
      "+------+------+---------------+-------------------+------------+-----------------+-------------------+\n",
      "|id    |name  |dept           |hired_date         |current_date|work_with_us(day)|work_with_us(month)|\n",
      "+------+------+---------------+-------------------+------------+-----------------+-------------------+\n",
      "|MR-003|John  |Market Research|2019-01-01 10:30:00|2021-10-19  |1022             |33.57              |\n",
      "|M-007 |Olivia|Marketing      |2019-02-10 10:30:00|2021-10-19  |982              |32.28              |\n",
      "|M-008 |Luca  |Marketing      |2019-05-01 9:15:00 |2021-10-19  |902              |29.57              |\n",
      "|HR-003|Joseph|Human Resuorce |2019-01-01 10:30:00|2021-10-19  |1022             |33.57              |\n",
      "|HR-004|Mark  |Human Resource |2019-02-01 9:30:00 |2021-10-19  |991              |32.57              |\n",
      "|HR-005|Chloe |Human Resource |2019-02-02 9:30:00 |2021-10-19  |990              |32.54              |\n",
      "|HR-006|Hazel |Human Resource |2019-05-01 9:30:00 |2021-10-19  |902              |29.57              |\n",
      "|HR-007|Zoey  |Human Resource |2019-06-01 9:30:00 |2021-10-19  |871              |28.57              |\n",
      "|S-018 |Ethan |Sale           |2018-11-01 9:30:00 |2021-10-19  |1083             |35.57              |\n",
      "|S-019 |Ethan |Sale           |2018-11-01 9:30:00 |2021-10-19  |1083             |35.57              |\n",
      "|S-020 |Lola  |Sale           |2018-11-01 9:30:00 |2021-10-19  |1083             |35.57              |\n",
      "|IT-001|Roger |IT             |2018-12-01 9:30:00 |2021-10-19  |1053             |34.57              |\n",
      "|IT-002|Philip|IT             |2018-12-01 9:20:00 |2021-10-19  |1053             |34.57              |\n",
      "+------+------+---------------+-------------------+------------+-----------------+-------------------+\n",
      "\n"
     ]
    }
   ],
   "source": [
    "# less than 3 years of service\n",
    "new_df.filter(new_df['work_with_us(month)'] < 36.0).show(truncate=False)"
   ]
  },
  {
   "cell_type": "code",
   "execution_count": 18,
   "id": "eef202ec-34f4-457b-b08d-eee52af0c0c2",
   "metadata": {},
   "outputs": [
    {
     "name": "stdout",
     "output_type": "stream",
     "text": [
      "+-------+--------+----------------------+-------------------+------------+-----------------+-------------------+\n",
      "|id     |name    |dept                  |hired_date         |current_date|work_with_us(day)|work_with_us(month)|\n",
      "+-------+--------+----------------------+-------------------+------------+-----------------+-------------------+\n",
      "|MR-001 |Alice   |Market Research       |2017-02-10 9:30:00 |2021-10-19  |1712             |56.28              |\n",
      "|M-001  |Jonathan|Marketing             |2017-04-10 9:30:00 |2021-10-19  |1653             |54.28              |\n",
      "|M-002  |Ethan   |Marketing             |2017-04-10 9:30:00 |2021-10-19  |1653             |54.28              |\n",
      "|M-003  |Elyra   |Marketing             |2017-04-10 9:30:00 |2021-10-19  |1653             |54.28              |\n",
      "|M-004  |Sophia  |Marketing             |2017-04-10 9:30:00 |2021-10-19  |1653             |54.28              |\n",
      "|M-005  |Mia     |Marketing             |2017-04-10 9:30:00 |2021-10-19  |1653             |54.28              |\n",
      "|S-001  |Grace   |Sale                  |2017-04-10 9:30:00 |2021-10-19  |1653             |54.28              |\n",
      "|S-002  |Avery   |Sale                  |2017-04-10 9:30:00 |2021-10-19  |1653             |54.28              |\n",
      "|S-003  |Charles |Sale                  |2017-04-10 9:30:00 |2021-10-19  |1653             |54.28              |\n",
      "|S-004  |Andrew  |Sale                  |2017-04-10 9:30:00 |2021-10-19  |1653             |54.28              |\n",
      "|S-005  |Paul    |Sale                  |2017-04-10 9:30:00 |2021-10-19  |1653             |54.28              |\n",
      "|S-006  |Joshua  |Sale                  |2017-04-10 9:30:00 |2021-10-19  |1653             |54.28              |\n",
      "|S-007  |Steven  |Sale                  |2017-04-10 9:30:00 |2021-10-19  |1653             |54.28              |\n",
      "|S-008  |Bella   |Sale                  |2017-04-10 9:30:00 |2021-10-19  |1653             |54.28              |\n",
      "|F-001  |Frank   |Finance and Accounting|2017-04-10 10:30:00|2021-10-19  |1653             |54.28              |\n",
      "|F-002  |Peter   |Finance and Accounting|2017-04-10 10:30:00|2021-10-19  |1653             |54.28              |\n",
      "|F-003  |Nathan  |Finance and Accounting|2017-08-10 10:30:00|2021-10-19  |1531             |50.28              |\n",
      "|SEC-001|Gabriel |Security              |2017-04-10 10:30:00|2021-10-19  |1653             |54.28              |\n",
      "|SEC-002|Bruce   |Security              |2017-04-10 10:30:00|2021-10-19  |1653             |54.28              |\n",
      "+-------+--------+----------------------+-------------------+------------+-----------------+-------------------+\n",
      "\n"
     ]
    }
   ],
   "source": [
    "# more than 4 year service\n",
    "new_df.filter(new_df['work_with_us(month)'] > 48.0).show(truncate=False)"
   ]
  },
  {
   "cell_type": "code",
   "execution_count": 23,
   "id": "585a713a-3735-47e1-9e05-811c04a25d9a",
   "metadata": {},
   "outputs": [
    {
     "name": "stdout",
     "output_type": "stream",
     "text": [
      "+-----+--------+---------+------+------------------+------------+-----------------+-------------------+\n",
      "|id   |name    |dept     |salary|hired_date        |current_date|work_with_us(day)|work_with_us(month)|\n",
      "+-----+--------+---------+------+------------------+------------+-----------------+-------------------+\n",
      "|M-001|Jonathan|Marketing|4500  |2017-04-10 9:30:00|2021-10-19  |1653             |54.28              |\n",
      "|M-005|Mia     |Marketing|5000  |2017-04-10 9:30:00|2021-10-19  |1653             |54.28              |\n",
      "|S-003|Charles |Sale     |5000  |2017-04-10 9:30:00|2021-10-19  |1653             |54.28              |\n",
      "|S-004|Andrew  |Sale     |4500  |2017-04-10 9:30:00|2021-10-19  |1653             |54.28              |\n",
      "|S-006|Joshua  |Sale     |4500  |2017-04-10 9:30:00|2021-10-19  |1653             |54.28              |\n",
      "|S-007|Steven  |Sale     |5000  |2017-04-10 9:30:00|2021-10-19  |1653             |54.28              |\n",
      "|S-008|Bella   |Sale     |4500  |2017-04-10 9:30:00|2021-10-19  |1653             |54.28              |\n",
      "+-----+--------+---------+------+------------------+------------+-----------------+-------------------+\n",
      "\n"
     ]
    }
   ],
   "source": [
    "# over 4 years and salary less than 6000\n",
    "salary_df = (emp_df\n",
    "    .select(\"id\", \"name\", \"dept\", 'salary',\"hired_date\")\n",
    "    .withColumn(\"current_date\", current_date())\n",
    "    .withColumn(\"work_with_us(day)\", datediff(\"current_date\", \"hired_date\"))\n",
    "    .withColumn(\"work_with_us(month)\", round(months_between(\"current_date\", \"hired_date\"),2)))\n",
    "salary_df.filter((salary_df['work_with_us(month)'] > 48.0)\n",
    "              & (salary_df['salary'] < 6000 )).show(truncate=False)"
   ]
  },
  {
   "cell_type": "code",
   "execution_count": 31,
   "id": "b26d1f08-51e7-4383-b28e-08d120e50c12",
   "metadata": {},
   "outputs": [],
   "source": [
    "# Special bonus for over 4.5 year employee\n",
    "special_salary = (salary_df\n",
    "                  .filter((salary_df['work_with_us(month)'] > 52.0))\n",
    "                  .withColumn(\"special_bonus\", salary_df['salary']*0.2)\n",
    "                  .withColumn(\"total salary\", salary_df['salary']+salary_df['salary']*0.2))"
   ]
  },
  {
   "cell_type": "code",
   "execution_count": 32,
   "id": "8bdbb25b-dadb-4c79-8f2e-a3bdf0fa0b7f",
   "metadata": {},
   "outputs": [
    {
     "name": "stdout",
     "output_type": "stream",
     "text": [
      "+-------+--------+------+-------------+------------+\n",
      "|id     |name    |salary|special_bonus|total salary|\n",
      "+-------+--------+------+-------------+------------+\n",
      "|MR-001 |Alice   |7500  |1500.0       |9000.0      |\n",
      "|M-001  |Jonathan|4500  |900.0        |5400.0      |\n",
      "|M-002  |Ethan   |6000  |1200.0       |7200.0      |\n",
      "|M-003  |Elyra   |7500  |1500.0       |9000.0      |\n",
      "|M-004  |Sophia  |8000  |1600.0       |9600.0      |\n",
      "|M-005  |Mia     |5000  |1000.0       |6000.0      |\n",
      "|S-001  |Grace   |8000  |1600.0       |9600.0      |\n",
      "|S-002  |Avery   |6000  |1200.0       |7200.0      |\n",
      "|S-003  |Charles |5000  |1000.0       |6000.0      |\n",
      "|S-004  |Andrew  |4500  |900.0        |5400.0      |\n",
      "|S-005  |Paul    |9500  |1900.0       |11400.0     |\n",
      "|S-006  |Joshua  |4500  |900.0        |5400.0      |\n",
      "|S-007  |Steven  |5000  |1000.0       |6000.0      |\n",
      "|S-008  |Bella   |4500  |900.0        |5400.0      |\n",
      "|F-001  |Frank   |9000  |1800.0       |10800.0     |\n",
      "|F-002  |Peter   |11500 |2300.0       |13800.0     |\n",
      "|SEC-001|Gabriel |8000  |1600.0       |9600.0      |\n",
      "|SEC-002|Bruce   |6500  |1300.0       |7800.0      |\n",
      "+-------+--------+------+-------------+------------+\n",
      "\n"
     ]
    }
   ],
   "source": [
    "special_salary.select(\"id\", \"name\", \"salary\", \"special_bonus\", \"total salary\").show(truncate=False)"
   ]
  },
  {
   "cell_type": "code",
   "execution_count": null,
   "id": "115f6b11-09a7-4ada-84ca-f04b4e3a0904",
   "metadata": {},
   "outputs": [],
   "source": []
  }
 ],
 "metadata": {
  "kernelspec": {
   "display_name": "Python 3 (ipykernel)",
   "language": "python",
   "name": "python3"
  },
  "language_info": {
   "codemirror_mode": {
    "name": "ipython",
    "version": 3
   },
   "file_extension": ".py",
   "mimetype": "text/x-python",
   "name": "python",
   "nbconvert_exporter": "python",
   "pygments_lexer": "ipython3",
   "version": "3.9.5"
  }
 },
 "nbformat": 4,
 "nbformat_minor": 5
}
